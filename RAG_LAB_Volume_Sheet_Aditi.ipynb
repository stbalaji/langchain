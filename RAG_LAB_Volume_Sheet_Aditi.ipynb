{
  "cells": [
    {
      "cell_type": "markdown",
      "metadata": {
        "id": "view-in-github",
        "colab_type": "text"
      },
      "source": [
        "<a href=\"https://colab.research.google.com/github/stbalaji/langchain/blob/main/RAG_LAB_Volume_Sheet_Aditi.ipynb\" target=\"_parent\"><img src=\"https://colab.research.google.com/assets/colab-badge.svg\" alt=\"Open In Colab\"/></a>"
      ]
    },
    {
      "cell_type": "markdown",
      "metadata": {
        "id": "hwoCG6V645td"
      },
      "source": [
        "#### <font color=FF595E>Installing packages</font>\n",
        "\n"
      ]
    },
    {
      "cell_type": "code",
      "execution_count": null,
      "metadata": {
        "colab": {
          "base_uri": "https://localhost:8080/"
        },
        "collapsed": true,
        "id": "QPx4DkYQ5AcE",
        "outputId": "99b215d1-1109-4b77-9966-95c20e792cc4"
      },
      "outputs": [
        {
          "output_type": "stream",
          "name": "stdout",
          "text": [
            "Requirement already satisfied: langchain_community in /usr/local/lib/python3.10/dist-packages (0.3.9)\n",
            "Requirement already satisfied: tiktoken in /usr/local/lib/python3.10/dist-packages (0.8.0)\n",
            "Requirement already satisfied: langchain-openai in /usr/local/lib/python3.10/dist-packages (0.2.10)\n",
            "Requirement already satisfied: langchainhub in /usr/local/lib/python3.10/dist-packages (0.1.21)\n",
            "Requirement already satisfied: chromadb in /usr/local/lib/python3.10/dist-packages (0.5.20)\n",
            "Requirement already satisfied: langchain in /usr/local/lib/python3.10/dist-packages (0.3.9)\n",
            "Requirement already satisfied: pypdf in /usr/local/lib/python3.10/dist-packages (5.1.0)\n",
            "Requirement already satisfied: rapidocr-onnxruntime in /usr/local/lib/python3.10/dist-packages (1.4.0)\n",
            "Requirement already satisfied: streamlit in /usr/local/lib/python3.10/dist-packages (1.40.2)\n",
            "Requirement already satisfied: unstructured in /usr/local/lib/python3.10/dist-packages (0.16.9)\n",
            "Requirement already satisfied: pdf2image in /usr/local/lib/python3.10/dist-packages (1.17.0)\n",
            "Requirement already satisfied: pdfminer.six in /usr/local/lib/python3.10/dist-packages (20240706)\n",
            "Requirement already satisfied: pikepdf in /usr/local/lib/python3.10/dist-packages (9.4.2)\n",
            "Requirement already satisfied: pillow_heif in /usr/local/lib/python3.10/dist-packages (0.21.0)\n",
            "Requirement already satisfied: langchain_experimental in /usr/local/lib/python3.10/dist-packages (0.3.3)\n",
            "Requirement already satisfied: PyYAML>=5.3 in /usr/local/lib/python3.10/dist-packages (from langchain_community) (6.0.2)\n",
            "Requirement already satisfied: SQLAlchemy<3,>=1.4 in /usr/local/lib/python3.10/dist-packages (from langchain_community) (2.0.36)\n",
            "Requirement already satisfied: aiohttp<4.0.0,>=3.8.3 in /usr/local/lib/python3.10/dist-packages (from langchain_community) (3.11.2)\n",
            "Requirement already satisfied: dataclasses-json<0.7,>=0.5.7 in /usr/local/lib/python3.10/dist-packages (from langchain_community) (0.6.7)\n",
            "Requirement already satisfied: httpx-sse<0.5.0,>=0.4.0 in /usr/local/lib/python3.10/dist-packages (from langchain_community) (0.4.0)\n",
            "Requirement already satisfied: langchain-core<0.4.0,>=0.3.21 in /usr/local/lib/python3.10/dist-packages (from langchain_community) (0.3.21)\n",
            "Requirement already satisfied: langsmith<0.2.0,>=0.1.125 in /usr/local/lib/python3.10/dist-packages (from langchain_community) (0.1.143)\n",
            "Requirement already satisfied: numpy<2,>=1.22.4 in /usr/local/lib/python3.10/dist-packages (from langchain_community) (1.26.4)\n",
            "Requirement already satisfied: pydantic-settings<3.0.0,>=2.4.0 in /usr/local/lib/python3.10/dist-packages (from langchain_community) (2.6.1)\n",
            "Requirement already satisfied: requests<3,>=2 in /usr/local/lib/python3.10/dist-packages (from langchain_community) (2.32.3)\n",
            "Requirement already satisfied: tenacity!=8.4.0,<10,>=8.1.0 in /usr/local/lib/python3.10/dist-packages (from langchain_community) (9.0.0)\n",
            "Requirement already satisfied: regex>=2022.1.18 in /usr/local/lib/python3.10/dist-packages (from tiktoken) (2024.9.11)\n",
            "Requirement already satisfied: openai<2.0.0,>=1.54.0 in /usr/local/lib/python3.10/dist-packages (from langchain-openai) (1.54.4)\n",
            "Requirement already satisfied: packaging<25,>=23.2 in /usr/local/lib/python3.10/dist-packages (from langchainhub) (24.2)\n",
            "Requirement already satisfied: types-requests<3.0.0.0,>=2.31.0.2 in /usr/local/lib/python3.10/dist-packages (from langchainhub) (2.32.0.20241016)\n",
            "Requirement already satisfied: build>=1.0.3 in /usr/local/lib/python3.10/dist-packages (from chromadb) (1.2.2.post1)\n",
            "Requirement already satisfied: pydantic>=1.9 in /usr/local/lib/python3.10/dist-packages (from chromadb) (2.9.2)\n",
            "Requirement already satisfied: chroma-hnswlib==0.7.6 in /usr/local/lib/python3.10/dist-packages (from chromadb) (0.7.6)\n",
            "Requirement already satisfied: fastapi>=0.95.2 in /usr/local/lib/python3.10/dist-packages (from chromadb) (0.115.5)\n",
            "Requirement already satisfied: uvicorn>=0.18.3 in /usr/local/lib/python3.10/dist-packages (from uvicorn[standard]>=0.18.3->chromadb) (0.32.1)\n",
            "Requirement already satisfied: posthog>=2.4.0 in /usr/local/lib/python3.10/dist-packages (from chromadb) (3.7.4)\n",
            "Requirement already satisfied: typing-extensions>=4.5.0 in /usr/local/lib/python3.10/dist-packages (from chromadb) (4.12.2)\n",
            "Requirement already satisfied: onnxruntime>=1.14.1 in /usr/local/lib/python3.10/dist-packages (from chromadb) (1.20.1)\n",
            "Requirement already satisfied: opentelemetry-api>=1.2.0 in /usr/local/lib/python3.10/dist-packages (from chromadb) (1.28.2)\n",
            "Requirement already satisfied: opentelemetry-exporter-otlp-proto-grpc>=1.2.0 in /usr/local/lib/python3.10/dist-packages (from chromadb) (1.28.2)\n",
            "Requirement already satisfied: opentelemetry-instrumentation-fastapi>=0.41b0 in /usr/local/lib/python3.10/dist-packages (from chromadb) (0.49b2)\n",
            "Requirement already satisfied: opentelemetry-sdk>=1.2.0 in /usr/local/lib/python3.10/dist-packages (from chromadb) (1.28.2)\n",
            "Requirement already satisfied: tokenizers>=0.13.2 in /usr/local/lib/python3.10/dist-packages (from chromadb) (0.20.3)\n",
            "Requirement already satisfied: pypika>=0.48.9 in /usr/local/lib/python3.10/dist-packages (from chromadb) (0.48.9)\n",
            "Requirement already satisfied: tqdm>=4.65.0 in /usr/local/lib/python3.10/dist-packages (from chromadb) (4.66.6)\n",
            "Requirement already satisfied: overrides>=7.3.1 in /usr/local/lib/python3.10/dist-packages (from chromadb) (7.7.0)\n",
            "Requirement already satisfied: importlib-resources in /usr/local/lib/python3.10/dist-packages (from chromadb) (6.4.5)\n",
            "Requirement already satisfied: grpcio>=1.58.0 in /usr/local/lib/python3.10/dist-packages (from chromadb) (1.68.0)\n",
            "Requirement already satisfied: bcrypt>=4.0.1 in /usr/local/lib/python3.10/dist-packages (from chromadb) (4.2.1)\n",
            "Requirement already satisfied: typer>=0.9.0 in /usr/local/lib/python3.10/dist-packages (from chromadb) (0.13.0)\n",
            "Requirement already satisfied: kubernetes>=28.1.0 in /usr/local/lib/python3.10/dist-packages (from chromadb) (31.0.0)\n",
            "Requirement already satisfied: mmh3>=4.0.1 in /usr/local/lib/python3.10/dist-packages (from chromadb) (5.0.1)\n",
            "Requirement already satisfied: orjson>=3.9.12 in /usr/local/lib/python3.10/dist-packages (from chromadb) (3.10.11)\n",
            "Requirement already satisfied: httpx>=0.27.0 in /usr/local/lib/python3.10/dist-packages (from chromadb) (0.27.2)\n",
            "Requirement already satisfied: rich>=10.11.0 in /usr/local/lib/python3.10/dist-packages (from chromadb) (13.9.4)\n",
            "Requirement already satisfied: async-timeout<5.0.0,>=4.0.0 in /usr/local/lib/python3.10/dist-packages (from langchain) (4.0.3)\n",
            "Requirement already satisfied: langchain-text-splitters<0.4.0,>=0.3.0 in /usr/local/lib/python3.10/dist-packages (from langchain) (0.3.2)\n",
            "Requirement already satisfied: pyclipper>=1.2.0 in /usr/local/lib/python3.10/dist-packages (from rapidocr-onnxruntime) (1.3.0.post6)\n",
            "Requirement already satisfied: opencv-python>=4.5.1.48 in /usr/local/lib/python3.10/dist-packages (from rapidocr-onnxruntime) (4.10.0.84)\n",
            "Requirement already satisfied: six>=1.15.0 in /usr/local/lib/python3.10/dist-packages (from rapidocr-onnxruntime) (1.16.0)\n",
            "Requirement already satisfied: Shapely!=2.0.4,>=1.7.1 in /usr/local/lib/python3.10/dist-packages (from rapidocr-onnxruntime) (2.0.6)\n",
            "Requirement already satisfied: Pillow in /usr/local/lib/python3.10/dist-packages (from rapidocr-onnxruntime) (11.0.0)\n",
            "Requirement already satisfied: altair<6,>=4.0 in /usr/local/lib/python3.10/dist-packages (from streamlit) (4.2.2)\n",
            "Requirement already satisfied: blinker<2,>=1.0.0 in /usr/local/lib/python3.10/dist-packages (from streamlit) (1.9.0)\n",
            "Requirement already satisfied: cachetools<6,>=4.0 in /usr/local/lib/python3.10/dist-packages (from streamlit) (5.5.0)\n",
            "Requirement already satisfied: click<9,>=7.0 in /usr/local/lib/python3.10/dist-packages (from streamlit) (8.1.7)\n",
            "Requirement already satisfied: pandas<3,>=1.4.0 in /usr/local/lib/python3.10/dist-packages (from streamlit) (2.2.2)\n",
            "Requirement already satisfied: protobuf<6,>=3.20 in /usr/local/lib/python3.10/dist-packages (from streamlit) (5.29.0)\n",
            "Requirement already satisfied: pyarrow>=7.0 in /usr/local/lib/python3.10/dist-packages (from streamlit) (17.0.0)\n",
            "Requirement already satisfied: toml<2,>=0.10.1 in /usr/local/lib/python3.10/dist-packages (from streamlit) (0.10.2)\n",
            "Requirement already satisfied: watchdog<7,>=2.1.5 in /usr/local/lib/python3.10/dist-packages (from streamlit) (6.0.0)\n",
            "Requirement already satisfied: gitpython!=3.1.19,<4,>=3.0.7 in /usr/local/lib/python3.10/dist-packages (from streamlit) (3.1.43)\n",
            "Requirement already satisfied: pydeck<1,>=0.8.0b4 in /usr/local/lib/python3.10/dist-packages (from streamlit) (0.9.1)\n",
            "Requirement already satisfied: tornado<7,>=6.0.3 in /usr/local/lib/python3.10/dist-packages (from streamlit) (6.3.3)\n",
            "Requirement already satisfied: chardet in /usr/local/lib/python3.10/dist-packages (from unstructured) (5.2.0)\n",
            "Requirement already satisfied: filetype in /usr/local/lib/python3.10/dist-packages (from unstructured) (1.2.0)\n",
            "Requirement already satisfied: python-magic in /usr/local/lib/python3.10/dist-packages (from unstructured) (0.4.27)\n",
            "Requirement already satisfied: lxml in /usr/local/lib/python3.10/dist-packages (from unstructured) (5.3.0)\n",
            "Requirement already satisfied: nltk in /usr/local/lib/python3.10/dist-packages (from unstructured) (3.9.1)\n",
            "Requirement already satisfied: beautifulsoup4 in /usr/local/lib/python3.10/dist-packages (from unstructured) (4.12.3)\n",
            "Requirement already satisfied: emoji in /usr/local/lib/python3.10/dist-packages (from unstructured) (2.14.0)\n",
            "Requirement already satisfied: python-iso639 in /usr/local/lib/python3.10/dist-packages (from unstructured) (2024.10.22)\n",
            "Requirement already satisfied: langdetect in /usr/local/lib/python3.10/dist-packages (from unstructured) (1.0.9)\n",
            "Requirement already satisfied: rapidfuzz in /usr/local/lib/python3.10/dist-packages (from unstructured) (3.10.1)\n",
            "Requirement already satisfied: backoff in /usr/local/lib/python3.10/dist-packages (from unstructured) (2.2.1)\n",
            "Requirement already satisfied: unstructured-client in /usr/local/lib/python3.10/dist-packages (from unstructured) (0.28.1)\n",
            "Requirement already satisfied: wrapt in /usr/local/lib/python3.10/dist-packages (from unstructured) (1.16.0)\n",
            "Requirement already satisfied: psutil in /usr/local/lib/python3.10/dist-packages (from unstructured) (5.9.5)\n",
            "Requirement already satisfied: python-oxmsg in /usr/local/lib/python3.10/dist-packages (from unstructured) (0.0.1)\n",
            "Requirement already satisfied: html5lib in /usr/local/lib/python3.10/dist-packages (from unstructured) (1.1)\n",
            "Requirement already satisfied: charset-normalizer>=2.0.0 in /usr/local/lib/python3.10/dist-packages (from pdfminer.six) (3.4.0)\n",
            "Requirement already satisfied: cryptography>=36.0.0 in /usr/local/lib/python3.10/dist-packages (from pdfminer.six) (43.0.3)\n",
            "Requirement already satisfied: Deprecated in /usr/local/lib/python3.10/dist-packages (from pikepdf) (1.2.15)\n",
            "Requirement already satisfied: aiohappyeyeballs>=2.3.0 in /usr/local/lib/python3.10/dist-packages (from aiohttp<4.0.0,>=3.8.3->langchain_community) (2.4.3)\n",
            "Requirement already satisfied: aiosignal>=1.1.2 in /usr/local/lib/python3.10/dist-packages (from aiohttp<4.0.0,>=3.8.3->langchain_community) (1.3.1)\n",
            "Requirement already satisfied: attrs>=17.3.0 in /usr/local/lib/python3.10/dist-packages (from aiohttp<4.0.0,>=3.8.3->langchain_community) (24.2.0)\n",
            "Requirement already satisfied: frozenlist>=1.1.1 in /usr/local/lib/python3.10/dist-packages (from aiohttp<4.0.0,>=3.8.3->langchain_community) (1.5.0)\n",
            "Requirement already satisfied: multidict<7.0,>=4.5 in /usr/local/lib/python3.10/dist-packages (from aiohttp<4.0.0,>=3.8.3->langchain_community) (6.1.0)\n",
            "Requirement already satisfied: propcache>=0.2.0 in /usr/local/lib/python3.10/dist-packages (from aiohttp<4.0.0,>=3.8.3->langchain_community) (0.2.0)\n",
            "Requirement already satisfied: yarl<2.0,>=1.17.0 in /usr/local/lib/python3.10/dist-packages (from aiohttp<4.0.0,>=3.8.3->langchain_community) (1.17.2)\n",
            "Requirement already satisfied: entrypoints in /usr/local/lib/python3.10/dist-packages (from altair<6,>=4.0->streamlit) (0.4)\n",
            "Requirement already satisfied: jinja2 in /usr/local/lib/python3.10/dist-packages (from altair<6,>=4.0->streamlit) (3.1.4)\n",
            "Requirement already satisfied: jsonschema>=3.0 in /usr/local/lib/python3.10/dist-packages (from altair<6,>=4.0->streamlit) (4.23.0)\n",
            "Requirement already satisfied: toolz in /usr/local/lib/python3.10/dist-packages (from altair<6,>=4.0->streamlit) (0.12.1)\n",
            "Requirement already satisfied: pyproject_hooks in /usr/local/lib/python3.10/dist-packages (from build>=1.0.3->chromadb) (1.2.0)\n",
            "Requirement already satisfied: tomli>=1.1.0 in /usr/local/lib/python3.10/dist-packages (from build>=1.0.3->chromadb) (2.1.0)\n",
            "Requirement already satisfied: cffi>=1.12 in /usr/local/lib/python3.10/dist-packages (from cryptography>=36.0.0->pdfminer.six) (1.17.1)\n",
            "Requirement already satisfied: marshmallow<4.0.0,>=3.18.0 in /usr/local/lib/python3.10/dist-packages (from dataclasses-json<0.7,>=0.5.7->langchain_community) (3.23.1)\n",
            "Requirement already satisfied: typing-inspect<1,>=0.4.0 in /usr/local/lib/python3.10/dist-packages (from dataclasses-json<0.7,>=0.5.7->langchain_community) (0.9.0)\n",
            "Requirement already satisfied: starlette<0.42.0,>=0.40.0 in /usr/local/lib/python3.10/dist-packages (from fastapi>=0.95.2->chromadb) (0.41.3)\n",
            "Requirement already satisfied: gitdb<5,>=4.0.1 in /usr/local/lib/python3.10/dist-packages (from gitpython!=3.1.19,<4,>=3.0.7->streamlit) (4.0.11)\n",
            "Requirement already satisfied: anyio in /usr/local/lib/python3.10/dist-packages (from httpx>=0.27.0->chromadb) (3.7.1)\n",
            "Requirement already satisfied: certifi in /usr/local/lib/python3.10/dist-packages (from httpx>=0.27.0->chromadb) (2024.8.30)\n",
            "Requirement already satisfied: httpcore==1.* in /usr/local/lib/python3.10/dist-packages (from httpx>=0.27.0->chromadb) (1.0.7)\n",
            "Requirement already satisfied: idna in /usr/local/lib/python3.10/dist-packages (from httpx>=0.27.0->chromadb) (3.10)\n",
            "Requirement already satisfied: sniffio in /usr/local/lib/python3.10/dist-packages (from httpx>=0.27.0->chromadb) (1.3.1)\n",
            "Requirement already satisfied: h11<0.15,>=0.13 in /usr/local/lib/python3.10/dist-packages (from httpcore==1.*->httpx>=0.27.0->chromadb) (0.14.0)\n",
            "Requirement already satisfied: python-dateutil>=2.5.3 in /usr/local/lib/python3.10/dist-packages (from kubernetes>=28.1.0->chromadb) (2.8.2)\n",
            "Requirement already satisfied: google-auth>=1.0.1 in /usr/local/lib/python3.10/dist-packages (from kubernetes>=28.1.0->chromadb) (2.27.0)\n",
            "Requirement already satisfied: websocket-client!=0.40.0,!=0.41.*,!=0.42.*,>=0.32.0 in /usr/local/lib/python3.10/dist-packages (from kubernetes>=28.1.0->chromadb) (1.8.0)\n",
            "Requirement already satisfied: requests-oauthlib in /usr/local/lib/python3.10/dist-packages (from kubernetes>=28.1.0->chromadb) (1.3.1)\n",
            "Requirement already satisfied: oauthlib>=3.2.2 in /usr/local/lib/python3.10/dist-packages (from kubernetes>=28.1.0->chromadb) (3.2.2)\n",
            "Requirement already satisfied: urllib3>=1.24.2 in /usr/local/lib/python3.10/dist-packages (from kubernetes>=28.1.0->chromadb) (2.2.3)\n",
            "Requirement already satisfied: durationpy>=0.7 in /usr/local/lib/python3.10/dist-packages (from kubernetes>=28.1.0->chromadb) (0.9)\n",
            "Requirement already satisfied: jsonpatch<2.0,>=1.33 in /usr/local/lib/python3.10/dist-packages (from langchain-core<0.4.0,>=0.3.21->langchain_community) (1.33)\n",
            "Requirement already satisfied: requests-toolbelt<2.0.0,>=1.0.0 in /usr/local/lib/python3.10/dist-packages (from langsmith<0.2.0,>=0.1.125->langchain_community) (1.0.0)\n",
            "Requirement already satisfied: coloredlogs in /usr/local/lib/python3.10/dist-packages (from onnxruntime>=1.14.1->chromadb) (15.0.1)\n",
            "Requirement already satisfied: flatbuffers in /usr/local/lib/python3.10/dist-packages (from onnxruntime>=1.14.1->chromadb) (24.3.25)\n",
            "Requirement already satisfied: sympy in /usr/local/lib/python3.10/dist-packages (from onnxruntime>=1.14.1->chromadb) (1.13.1)\n",
            "Requirement already satisfied: distro<2,>=1.7.0 in /usr/local/lib/python3.10/dist-packages (from openai<2.0.0,>=1.54.0->langchain-openai) (1.9.0)\n",
            "Requirement already satisfied: jiter<1,>=0.4.0 in /usr/local/lib/python3.10/dist-packages (from openai<2.0.0,>=1.54.0->langchain-openai) (0.7.1)\n",
            "Requirement already satisfied: importlib-metadata<=8.5.0,>=6.0 in /usr/local/lib/python3.10/dist-packages (from opentelemetry-api>=1.2.0->chromadb) (8.5.0)\n",
            "Requirement already satisfied: googleapis-common-protos~=1.52 in /usr/local/lib/python3.10/dist-packages (from opentelemetry-exporter-otlp-proto-grpc>=1.2.0->chromadb) (1.66.0)\n",
            "Requirement already satisfied: opentelemetry-exporter-otlp-proto-common==1.28.2 in /usr/local/lib/python3.10/dist-packages (from opentelemetry-exporter-otlp-proto-grpc>=1.2.0->chromadb) (1.28.2)\n",
            "Requirement already satisfied: opentelemetry-proto==1.28.2 in /usr/local/lib/python3.10/dist-packages (from opentelemetry-exporter-otlp-proto-grpc>=1.2.0->chromadb) (1.28.2)\n",
            "Requirement already satisfied: opentelemetry-instrumentation-asgi==0.49b2 in /usr/local/lib/python3.10/dist-packages (from opentelemetry-instrumentation-fastapi>=0.41b0->chromadb) (0.49b2)\n",
            "Requirement already satisfied: opentelemetry-instrumentation==0.49b2 in /usr/local/lib/python3.10/dist-packages (from opentelemetry-instrumentation-fastapi>=0.41b0->chromadb) (0.49b2)\n",
            "Requirement already satisfied: opentelemetry-semantic-conventions==0.49b2 in /usr/local/lib/python3.10/dist-packages (from opentelemetry-instrumentation-fastapi>=0.41b0->chromadb) (0.49b2)\n",
            "Requirement already satisfied: opentelemetry-util-http==0.49b2 in /usr/local/lib/python3.10/dist-packages (from opentelemetry-instrumentation-fastapi>=0.41b0->chromadb) (0.49b2)\n",
            "Requirement already satisfied: asgiref~=3.0 in /usr/local/lib/python3.10/dist-packages (from opentelemetry-instrumentation-asgi==0.49b2->opentelemetry-instrumentation-fastapi>=0.41b0->chromadb) (3.8.1)\n",
            "Requirement already satisfied: pytz>=2020.1 in /usr/local/lib/python3.10/dist-packages (from pandas<3,>=1.4.0->streamlit) (2024.2)\n",
            "Requirement already satisfied: tzdata>=2022.7 in /usr/local/lib/python3.10/dist-packages (from pandas<3,>=1.4.0->streamlit) (2024.2)\n",
            "Requirement already satisfied: monotonic>=1.5 in /usr/local/lib/python3.10/dist-packages (from posthog>=2.4.0->chromadb) (1.6)\n",
            "Requirement already satisfied: annotated-types>=0.6.0 in /usr/local/lib/python3.10/dist-packages (from pydantic>=1.9->chromadb) (0.7.0)\n",
            "Requirement already satisfied: pydantic-core==2.23.4 in /usr/local/lib/python3.10/dist-packages (from pydantic>=1.9->chromadb) (2.23.4)\n",
            "Requirement already satisfied: python-dotenv>=0.21.0 in /usr/local/lib/python3.10/dist-packages (from pydantic-settings<3.0.0,>=2.4.0->langchain_community) (1.0.1)\n",
            "Requirement already satisfied: markdown-it-py>=2.2.0 in /usr/local/lib/python3.10/dist-packages (from rich>=10.11.0->chromadb) (3.0.0)\n",
            "Requirement already satisfied: pygments<3.0.0,>=2.13.0 in /usr/local/lib/python3.10/dist-packages (from rich>=10.11.0->chromadb) (2.18.0)\n",
            "Requirement already satisfied: greenlet!=0.4.17 in /usr/local/lib/python3.10/dist-packages (from SQLAlchemy<3,>=1.4->langchain_community) (3.1.1)\n",
            "Requirement already satisfied: huggingface-hub<1.0,>=0.16.4 in /usr/local/lib/python3.10/dist-packages (from tokenizers>=0.13.2->chromadb) (0.26.2)\n",
            "Requirement already satisfied: shellingham>=1.3.0 in /usr/local/lib/python3.10/dist-packages (from typer>=0.9.0->chromadb) (1.5.4)\n",
            "Requirement already satisfied: httptools>=0.6.3 in /usr/local/lib/python3.10/dist-packages (from uvicorn[standard]>=0.18.3->chromadb) (0.6.4)\n",
            "Requirement already satisfied: uvloop!=0.15.0,!=0.15.1,>=0.14.0 in /usr/local/lib/python3.10/dist-packages (from uvicorn[standard]>=0.18.3->chromadb) (0.21.0)\n",
            "Requirement already satisfied: watchfiles>=0.13 in /usr/local/lib/python3.10/dist-packages (from uvicorn[standard]>=0.18.3->chromadb) (1.0.0)\n",
            "Requirement already satisfied: websockets>=10.4 in /usr/local/lib/python3.10/dist-packages (from uvicorn[standard]>=0.18.3->chromadb) (14.1)\n",
            "Requirement already satisfied: soupsieve>1.2 in /usr/local/lib/python3.10/dist-packages (from beautifulsoup4->unstructured) (2.6)\n",
            "Requirement already satisfied: webencodings in /usr/local/lib/python3.10/dist-packages (from html5lib->unstructured) (0.5.1)\n",
            "Requirement already satisfied: joblib in /usr/local/lib/python3.10/dist-packages (from nltk->unstructured) (1.4.2)\n",
            "Requirement already satisfied: olefile in /usr/local/lib/python3.10/dist-packages (from python-oxmsg->unstructured) (0.47)\n",
            "Requirement already satisfied: aiofiles>=24.1.0 in /usr/local/lib/python3.10/dist-packages (from unstructured-client->unstructured) (24.1.0)\n",
            "Requirement already satisfied: eval-type-backport<0.3.0,>=0.2.0 in /usr/local/lib/python3.10/dist-packages (from unstructured-client->unstructured) (0.2.0)\n",
            "Requirement already satisfied: jsonpath-python<2.0.0,>=1.0.6 in /usr/local/lib/python3.10/dist-packages (from unstructured-client->unstructured) (1.0.6)\n",
            "Requirement already satisfied: nest-asyncio>=1.6.0 in /usr/local/lib/python3.10/dist-packages (from unstructured-client->unstructured) (1.6.0)\n",
            "Requirement already satisfied: exceptiongroup in /usr/local/lib/python3.10/dist-packages (from anyio->httpx>=0.27.0->chromadb) (1.2.2)\n",
            "Requirement already satisfied: pycparser in /usr/local/lib/python3.10/dist-packages (from cffi>=1.12->cryptography>=36.0.0->pdfminer.six) (2.22)\n",
            "Requirement already satisfied: smmap<6,>=3.0.1 in /usr/local/lib/python3.10/dist-packages (from gitdb<5,>=4.0.1->gitpython!=3.1.19,<4,>=3.0.7->streamlit) (5.0.1)\n",
            "Requirement already satisfied: pyasn1-modules>=0.2.1 in /usr/local/lib/python3.10/dist-packages (from google-auth>=1.0.1->kubernetes>=28.1.0->chromadb) (0.4.1)\n",
            "Requirement already satisfied: rsa<5,>=3.1.4 in /usr/local/lib/python3.10/dist-packages (from google-auth>=1.0.1->kubernetes>=28.1.0->chromadb) (4.9)\n",
            "Requirement already satisfied: filelock in /usr/local/lib/python3.10/dist-packages (from huggingface-hub<1.0,>=0.16.4->tokenizers>=0.13.2->chromadb) (3.16.1)\n",
            "Requirement already satisfied: fsspec>=2023.5.0 in /usr/local/lib/python3.10/dist-packages (from huggingface-hub<1.0,>=0.16.4->tokenizers>=0.13.2->chromadb) (2024.10.0)\n",
            "Requirement already satisfied: zipp>=3.20 in /usr/local/lib/python3.10/dist-packages (from importlib-metadata<=8.5.0,>=6.0->opentelemetry-api>=1.2.0->chromadb) (3.21.0)\n",
            "Requirement already satisfied: MarkupSafe>=2.0 in /usr/local/lib/python3.10/dist-packages (from jinja2->altair<6,>=4.0->streamlit) (3.0.2)\n",
            "Requirement already satisfied: jsonpointer>=1.9 in /usr/local/lib/python3.10/dist-packages (from jsonpatch<2.0,>=1.33->langchain-core<0.4.0,>=0.3.21->langchain_community) (3.0.0)\n",
            "Requirement already satisfied: jsonschema-specifications>=2023.03.6 in /usr/local/lib/python3.10/dist-packages (from jsonschema>=3.0->altair<6,>=4.0->streamlit) (2024.10.1)\n",
            "Requirement already satisfied: referencing>=0.28.4 in /usr/local/lib/python3.10/dist-packages (from jsonschema>=3.0->altair<6,>=4.0->streamlit) (0.35.1)\n",
            "Requirement already satisfied: rpds-py>=0.7.1 in /usr/local/lib/python3.10/dist-packages (from jsonschema>=3.0->altair<6,>=4.0->streamlit) (0.21.0)\n",
            "Requirement already satisfied: mdurl~=0.1 in /usr/local/lib/python3.10/dist-packages (from markdown-it-py>=2.2.0->rich>=10.11.0->chromadb) (0.1.2)\n",
            "Requirement already satisfied: mypy-extensions>=0.3.0 in /usr/local/lib/python3.10/dist-packages (from typing-inspect<1,>=0.4.0->dataclasses-json<0.7,>=0.5.7->langchain_community) (1.0.0)\n",
            "Requirement already satisfied: humanfriendly>=9.1 in /usr/local/lib/python3.10/dist-packages (from coloredlogs->onnxruntime>=1.14.1->chromadb) (10.0)\n",
            "Requirement already satisfied: mpmath<1.4,>=1.1.0 in /usr/local/lib/python3.10/dist-packages (from sympy->onnxruntime>=1.14.1->chromadb) (1.3.0)\n",
            "Requirement already satisfied: pyasn1<0.7.0,>=0.4.6 in /usr/local/lib/python3.10/dist-packages (from pyasn1-modules>=0.2.1->google-auth>=1.0.1->kubernetes>=28.1.0->chromadb) (0.6.1)\n"
          ]
        }
      ],
      "source": [
        "! pip install langchain_community tiktoken langchain-openai langchainhub chromadb langchain pypdf rapidocr-onnxruntime streamlit unstructured pdf2image pdfminer.six pikepdf pillow_heif langchain_experimental\n"
      ]
    },
    {
      "cell_type": "markdown",
      "metadata": {
        "id": "fTsUkYw55JD_"
      },
      "source": [
        "#### <font color=FF595E>OpenAI API\n"
      ]
    },
    {
      "cell_type": "code",
      "execution_count": null,
      "metadata": {
        "id": "zX6JxRjR5030"
      },
      "outputs": [],
      "source": [
        "#OpenAI API key\n",
        "from google.colab import userdata\n",
        "import os\n",
        "os.environ[\"OPENAI_API_KEY\"] = userdata.get('OPEN_AI_KEY')"
      ]
    },
    {
      "cell_type": "markdown",
      "metadata": {
        "id": "oOqSaVFoDydT"
      },
      "source": []
    },
    {
      "cell_type": "code",
      "execution_count": null,
      "metadata": {
        "id": "kjS9jBuZc_JK"
      },
      "outputs": [],
      "source": [
        "#Setup LangSmith to trace development\n",
        "from langsmith import Client\n",
        "os.environ[\"LANGCHAIN_PROJECT\"] = 'RAG_LAB'\n",
        "os.environ[\"LANGCHAIN_ENDPOINT\"] = \"https://api.smith.langchain.com\"\n",
        "os.environ[\"LANGCHAIN_API_KEY\"] = userdata.get('LANGCHAIN_API_KEY')\n",
        "os.environ[\"LANGCHAIN_TRACING_V2\"] = \"true\""
      ]
    },
    {
      "cell_type": "markdown",
      "metadata": {
        "id": "Ke135XHq6tO4"
      },
      "source": [
        "## <font color=FF595E>Creating ChatBot</font>\n"
      ]
    },
    {
      "cell_type": "markdown",
      "metadata": {
        "id": "ZCaoUOIVlc8p"
      },
      "source": [
        "#### Define models"
      ]
    },
    {
      "cell_type": "code",
      "execution_count": null,
      "metadata": {
        "id": "wCjdc72Rlfzw"
      },
      "outputs": [],
      "source": [
        "GPT4 = 'gpt-4-0125-preview'\n",
        "GPT3 = 'gpt-3.5-turbo-0125'"
      ]
    },
    {
      "cell_type": "markdown",
      "metadata": {
        "id": "c0GVw8gCmB6v"
      },
      "source": [
        "#### Simple ChatBot, no memory"
      ]
    },
    {
      "cell_type": "code",
      "execution_count": null,
      "metadata": {
        "id": "qAvyZk53mG1W"
      },
      "outputs": [],
      "source": [
        "#Import ChatOpenAI class\n",
        "from langchain_openai import ChatOpenAI\n"
      ]
    },
    {
      "cell_type": "code",
      "execution_count": null,
      "metadata": {
        "id": "19xHlPVBmPJj"
      },
      "outputs": [],
      "source": [
        "#Define the LLM. Specify model\n",
        "Chat = ChatOpenAI(model = GPT4)"
      ]
    },
    {
      "cell_type": "code",
      "execution_count": null,
      "metadata": {
        "colab": {
          "base_uri": "https://localhost:8080/"
        },
        "id": "5oVcf3Pima2N",
        "outputId": "b98aabe4-44be-4626-a8b5-d02a29bc153e"
      },
      "outputs": [
        {
          "output_type": "execute_result",
          "data": {
            "text/plain": [
              "AIMessage(content=\"My knowledge is up to date until September 2021. I don't have information on events or developments that occurred after that time.\", additional_kwargs={'refusal': None}, response_metadata={'token_usage': {'completion_tokens': 27, 'prompt_tokens': 15, 'total_tokens': 42, 'completion_tokens_details': {'accepted_prediction_tokens': 0, 'audio_tokens': 0, 'reasoning_tokens': 0, 'rejected_prediction_tokens': 0}, 'prompt_tokens_details': {'audio_tokens': 0, 'cached_tokens': 0}}, 'model_name': 'gpt-4-0125-preview', 'system_fingerprint': None, 'finish_reason': 'stop', 'logprobs': None}, id='run-a8c6f675-c6eb-442b-ad2b-4093c71662f3-0', usage_metadata={'input_tokens': 15, 'output_tokens': 27, 'total_tokens': 42, 'input_token_details': {'audio': 0, 'cache_read': 0}, 'output_token_details': {'audio': 0, 'reasoning': 0}})"
            ]
          },
          "metadata": {},
          "execution_count": 57
        }
      ],
      "source": [
        "# Invoke the chat with simple question to test it out\n",
        "Chat.invoke('What is your knowledge cut off day?')"
      ]
    },
    {
      "cell_type": "markdown",
      "metadata": {
        "id": "dYi3nLALoiZE"
      },
      "source": [
        "#### Adding memory and memory management"
      ]
    },
    {
      "cell_type": "code",
      "execution_count": null,
      "metadata": {
        "id": "BuOa-FMtonKX"
      },
      "outputs": [],
      "source": [
        "# Import ChatMessageHistory class that will store our chat histor.\n",
        "# Import chat prompt templates classes and Message placeholders classes\n",
        "from langchain.memory import ChatMessageHistory\n",
        "from langchain.prompts import ChatPromptTemplate, MessagesPlaceholder"
      ]
    },
    {
      "cell_type": "code",
      "execution_count": null,
      "metadata": {
        "id": "FpNQ0_V_pNrG"
      },
      "outputs": [],
      "source": [
        "# Initialize a new ChatMessageHistory object\n",
        "chat_history = ChatMessageHistory()"
      ]
    },
    {
      "cell_type": "code",
      "execution_count": null,
      "metadata": {
        "id": "WEr6580tpXtr"
      },
      "outputs": [],
      "source": [
        "# Add a user message to the chat history\n",
        "chat_history.add_user_message(\"What day ChatGPT was launched\")"
      ]
    },
    {
      "cell_type": "code",
      "execution_count": null,
      "metadata": {
        "id": "ge5j1RLEpqER"
      },
      "outputs": [],
      "source": [
        "# Add an AI response message to the chat history\n",
        "chat_history.add_ai_message(\"ChatGPT was launched at November 30, 2022\")\n"
      ]
    },
    {
      "cell_type": "code",
      "execution_count": null,
      "metadata": {
        "colab": {
          "base_uri": "https://localhost:8080/"
        },
        "id": "oFx-iWfGp7V5",
        "outputId": "8fe0dc8d-7894-4ab4-eb76-b269405417f2"
      },
      "outputs": [
        {
          "output_type": "execute_result",
          "data": {
            "text/plain": [
              "[HumanMessage(content='What day ChatGPT was launched', additional_kwargs={}, response_metadata={}),\n",
              " AIMessage(content='ChatGPT was launched at November 30, 2022', additional_kwargs={}, response_metadata={})]"
            ]
          },
          "metadata": {},
          "execution_count": 62
        }
      ],
      "source": [
        "# Access the messages property of the chat_history object\n",
        "chat_history.messages"
      ]
    },
    {
      "cell_type": "code",
      "execution_count": null,
      "metadata": {
        "id": "MOM7oZ6dqSTW"
      },
      "outputs": [],
      "source": [
        "# Add another user message to the chat history\n",
        "chat_history.add_user_message(\"Was it a successful launch?\")"
      ]
    },
    {
      "cell_type": "code",
      "execution_count": null,
      "metadata": {
        "collapsed": true,
        "id": "6MD6-TM_q2xG"
      },
      "outputs": [],
      "source": [
        "# Create a ChatPromptTemplate using messages\n",
        "prompt = ChatPromptTemplate.from_messages(\n",
        "    [\n",
        "        # Define a system message as a tuple\n",
        "        (\n",
        "            \"system\",\n",
        "            \"You are a data analyst. You need to check the csv file related to volume and data. Total column refers to total number of records also known as total voloume of records or just total volume. The document contains differents status- Total (Total Records Processed), Completed (Success), Failed, Terminated records. This is provided for the entitre year 2023 for each month separately. Tenant refers to the client and workflow refers to a specific workflow. One tenant can have multiple workflows as stated. You need to prepare bar graphs for line charts for the questions asked by the user\",\n",
        "        ),\n",
        "        # Add a placeholder for the chat messages\n",
        "        MessagesPlaceholder(variable_name=\"messages\"),\n",
        "    ]\n",
        ")"
      ]
    },
    {
      "cell_type": "code",
      "execution_count": null,
      "metadata": {
        "id": "BfFQW4vnr2WW"
      },
      "outputs": [],
      "source": [
        "# Create a simple Chain by passing prompt to LLM\n",
        "Chain = prompt | Chat"
      ]
    },
    {
      "cell_type": "code",
      "execution_count": null,
      "metadata": {
        "colab": {
          "base_uri": "https://localhost:8080/"
        },
        "id": "0gvqSYJRsxt2",
        "outputId": "c1bfa1c1-6612-4260-fd51-c82b3e940a35"
      },
      "outputs": [
        {
          "output_type": "execute_result",
          "data": {
            "text/plain": [
              "AIMessage(content='Yes, the launch of ChatGPT was highly successful. It quickly garnered widespread attention for its ability to generate human-like text based on the prompts it was given. Users found its responses to be surprisingly coherent and insightful across a wide range of topics, from casual conversation to complex technical explanations. The launch showcased the capabilities of large language models and their potential applications, leading to a significant increase in interest and discussion around AI and natural language processing technologies. The success was measured not just by the immediate user engagement and feedback, but also by the broader impact it had on promoting discussions around AI ethics, potential use cases, and future developments in the field.', additional_kwargs={'refusal': None}, response_metadata={'token_usage': {'completion_tokens': 129, 'prompt_tokens': 164, 'total_tokens': 293, 'completion_tokens_details': {'accepted_prediction_tokens': 0, 'audio_tokens': 0, 'reasoning_tokens': 0, 'rejected_prediction_tokens': 0}, 'prompt_tokens_details': {'audio_tokens': 0, 'cached_tokens': 0}}, 'model_name': 'gpt-4-0125-preview', 'system_fingerprint': None, 'finish_reason': 'stop', 'logprobs': None}, id='run-e361cf49-0fac-4c55-94c3-3cb49f39a1a0-0', usage_metadata={'input_tokens': 164, 'output_tokens': 129, 'total_tokens': 293, 'input_token_details': {'audio': 0, 'cache_read': 0}, 'output_token_details': {'audio': 0, 'reasoning': 0}})"
            ]
          },
          "metadata": {},
          "execution_count": 66
        }
      ],
      "source": [
        "#Invoking simple chain from messages\n",
        "Chain.invoke({\"messages\": chat_history.messages})"
      ]
    },
    {
      "cell_type": "markdown",
      "metadata": {
        "id": "epNbqUxxtdYX"
      },
      "source": [
        "#### Creating a loop to run Chat with history, printable user imputs and chat outputs"
      ]
    },
    {
      "cell_type": "code",
      "execution_count": null,
      "metadata": {
        "id": "qgUKr3dItot7"
      },
      "outputs": [],
      "source": [
        "#Import\n",
        "from langchain_core.runnables.history import RunnableWithMessageHistory\n",
        "#Define stop words for our chatbot\n",
        "stop_words = [\"exit\", \"quit\", \"stop\"]"
      ]
    },
    {
      "cell_type": "code",
      "execution_count": null,
      "metadata": {
        "colab": {
          "base_uri": "https://localhost:8080/"
        },
        "id": "pHT28jxauB2X",
        "outputId": "a8d44a10-0bca-4149-916f-8614046b4dce"
      },
      "outputs": [
        {
          "output_type": "stream",
          "name": "stdout",
          "text": [
            "Starting the chat...\n",
            "User: exit\n",
            "Exiting the chat...\n"
          ]
        }
      ],
      "source": [
        "#Define chat history\n",
        "chat_history = ChatMessageHistory()\n",
        "\n",
        "#Define LLM\n",
        "\n",
        "Chat = ChatOpenAI(model = GPT4)\n",
        "\n",
        "# Create a ChatPromptTemplate using messages\n",
        "prompt = ChatPromptTemplate.from_messages(\n",
        "    [\n",
        "        # Define a system message as a tuple\n",
        "        (\n",
        "            \"system\",\n",
        "            \"You are a data analyst. You need to check the csv file related to volume and data. Total column refers to total number of records also known as total voloume of records or just total volume. The document contains differents status- Total (Total Records Processed), Completed (Success), Failed, Terminated records. This is provided for the entitre year 2023 for each month separately. Tenant refers to the client and workflow refers to a specific workflow. One tenant can have multiple workflows as stated. You need to prepare bar graphs for line charts for the questions asked by the user\",\n",
        "        ),\n",
        "        # Add a placeholder for the chat messages\n",
        "        MessagesPlaceholder(variable_name=\"messages\"),\n",
        "    ]\n",
        ")\n",
        "\n",
        "#Define the chain\n",
        "Chat_chain = prompt | Chat\n",
        "\n",
        "#Use RunnableWithMessageHistory as a wrapper to manage message history\n",
        "Chain_with_message_history = RunnableWithMessageHistory(\n",
        "    Chat_chain,\n",
        "    #define access to chat history\n",
        "    lambda session_id : chat_history,\n",
        "    input_messages_key=\"messages\",\n",
        "    history_messages_key=\"chat_history\"\n",
        ")\n",
        "\n",
        "# Perform chat turns\n",
        "print(\"Starting the chat...\")\n",
        "while True:\n",
        "    question = input(\"User: \")\n",
        "\n",
        "    # Check if the user input matches a stop word\n",
        "    if question.lower() in stop_words:\n",
        "        print(\"Exiting the chat...\")\n",
        "        break\n",
        "\n",
        "    # Add a user message to the chat history\n",
        "    chat_history.add_user_message(question)\n",
        "\n",
        "    #Generate AI response\n",
        "    ai_response = Chain_with_message_history.invoke({\"messages\": chat_history.messages}, {\"configurable\": {\"session_id\": chat_history}})\n",
        "\n",
        "    # Add an AI response message to the chat history\n",
        "    chat_history.add_ai_message(ai_response.content)\n",
        "\n",
        "    #Display AI answer\n",
        "    print(f\"AI: {ai_response.content}\")"
      ]
    },
    {
      "cell_type": "markdown",
      "metadata": {
        "id": "NzIDIMcV1BPe"
      },
      "source": [
        "## <font color=FF595E>Building RAG Chatbot</font>"
      ]
    },
    {
      "cell_type": "markdown",
      "metadata": {
        "id": "AJfdkUCr1HEA"
      },
      "source": [
        "#### <font color=FF595E>Load documents</font>"
      ]
    },
    {
      "cell_type": "code",
      "execution_count": null,
      "metadata": {
        "colab": {
          "base_uri": "https://localhost:8080/"
        },
        "id": "RDi2U5GQOWTS",
        "outputId": "914205ff-6e6a-4b66-eb07-c81bec4feaa3"
      },
      "outputs": [
        {
          "output_type": "stream",
          "name": "stdout",
          "text": [
            "[Document(metadata={'source': '/content/VolumeSheet.csv', 'row': 0}, page_content='Tenant: Apollo\\nWorkflow: Claims\\nStatus: Total\\nJan 2023: 439\\nFeb 2023: 439\\nMar 2023: 1099\\nApr 2023: 194\\nMay 2023: 200\\nJun 2023: 161\\nJul 2023: 198\\nAug 2023: 153\\nSep 2023: 194\\nOct 2023: 200\\nNov 2023: 161\\nDec 2023: 198'), Document(metadata={'source': '/content/VolumeSheet.csv', 'row': 1}, page_content='Tenant: Apollo\\nWorkflow: Claims\\nStatus: Success\\nJan 2023: 239\\nFeb 2023: 239\\nMar 2023: 899\\nApr 2023: 192\\nMay 2023: 164\\nJun 2023: 103\\nJul 2023: 152\\nAug 2023: 149\\nSep 2023: 192\\nOct 2023: 164\\nNov 2023: 103\\nDec 2023: 152'), Document(metadata={'source': '/content/VolumeSheet.csv', 'row': 2}, page_content='Tenant: Apollo\\nWorkflow: Claims\\nStatus: Failed\\nJan 2023: 100\\nFeb 2023: 100\\nMar 2023: 100\\nApr 2023: 0\\nMay 2023: 0\\nJun 2023: 0\\nJul 2023: 0\\nAug 2023: 0\\nSep 2023: 0\\nOct 2023: 0\\nNov 2023: 0\\nDec 2023: 0'), Document(metadata={'source': '/content/VolumeSheet.csv', 'row': 3}, page_content='Tenant: Apollo\\nWorkflow: Claims\\nStatus: Needs Attention\\nJan 2023: 100\\nFeb 2023: 100\\nMar 2023: 100\\nApr 2023: 2\\nMay 2023: 36\\nJun 2023: 58\\nJul 2023: 46\\nAug 2023: 4\\nSep 2023: 2\\nOct 2023: 36\\nNov 2023: 58\\nDec 2023: 46'), Document(metadata={'source': '/content/VolumeSheet.csv', 'row': 4}, page_content='Tenant: Apollo\\nWorkflow: NOE\\nStatus: Total\\nJan 2023: 800\\nFeb 2023: 800\\nMar 2023: 770\\nApr 2023: 709\\nMay 2023: 723\\nJun 2023: 536\\nJul 2023: 856\\nAug 2023: 770\\nSep 2023: 709\\nOct 2023: 723\\nNov 2023: 536\\nDec 2023: 536'), Document(metadata={'source': '/content/VolumeSheet.csv', 'row': 5}, page_content='Tenant: Apollo\\nWorkflow: NOE\\nStatus: Success\\nJan 2023: 600\\nFeb 2023: 600\\nMar 2023: 770\\nApr 2023: 700\\nMay 2023: 718\\nJun 2023: 528\\nJul 2023: 853\\nAug 2023: 770\\nSep 2023: 700\\nOct 2023: 718\\nNov 2023: 528\\nDec 2023: 528'), Document(metadata={'source': '/content/VolumeSheet.csv', 'row': 6}, page_content='Tenant: Apollo\\nWorkflow: NOE\\nStatus: Failed\\nJan 2023: 100\\nFeb 2023: 100\\nMar 2023: 0\\nApr 2023: 0\\nMay 2023: 0\\nJun 2023: 0\\nJul 2023: 0\\nAug 2023: 0\\nSep 2023: 0\\nOct 2023: 0\\nNov 2023: 0\\nDec 2023: 0'), Document(metadata={'source': '/content/VolumeSheet.csv', 'row': 7}, page_content='Tenant: Apollo\\nWorkflow: NOE\\nStatus: Needs Attention\\nJan 2023: 100\\nFeb 2023: 100\\nMar 2023: 0\\nApr 2023: 9\\nMay 2023: 5\\nJun 2023: 8\\nJul 2023: 3\\nAug 2023: 0\\nSep 2023: 9\\nOct 2023: 5\\nNov 2023: 8\\nDec 2023: 8'), Document(metadata={'source': '/content/VolumeSheet.csv', 'row': 8}, page_content='Tenant: Apollo\\nWorkflow: NOTR\\nStatus: Total\\nJan 2023: 1200\\nFeb 2023: 1200\\nMar 2023: 1791\\nApr 2023: 1139\\nMay 2023: 936\\nJun 2023: 775\\nJul 2023: 687\\nAug 2023: 0\\nSep 2023: 1791\\nOct 2023: 1139\\nNov 2023: 936\\nDec 2023: 775'), Document(metadata={'source': '/content/VolumeSheet.csv', 'row': 9}, page_content='Tenant: Apollo\\nWorkflow: NOTR\\nStatus: Success\\nJan 2023: 900\\nFeb 2023: 900\\nMar 2023: 0\\nApr 2023: 0\\nMay 2023: 0\\nJun 2023: 0\\nJul 2023: 0\\nAug 2023: 0\\nSep 2023: 0\\nOct 2023: 0\\nNov 2023: 0\\nDec 2023: 0'), Document(metadata={'source': '/content/VolumeSheet.csv', 'row': 10}, page_content='Tenant: Apollo\\nWorkflow: NOTR\\nStatus: Failed\\nJan 2023: 100\\nFeb 2023: 100\\nMar 2023: 1,390\\nApr 2023: 1,001\\nMay 2023: 840\\nJun 2023: 614\\nJul 2023: 628\\nAug 2023: 1,077.00\\nSep 2023: 1,390\\nOct 2023: 1,001\\nNov 2023: 840\\nDec 2023: 614'), Document(metadata={'source': '/content/VolumeSheet.csv', 'row': 11}, page_content='Tenant: Apollo\\nWorkflow: NOTR\\nStatus: Needs Attention\\nJan 2023: 100\\nFeb 2023: 100\\nMar 2023: 379\\nApr 2023: 116\\nMay 2023: 71\\nJun 2023: 152\\nJul 2023: 51\\nAug 2023: 188.67\\nSep 2023: 379\\nOct 2023: 116\\nNov 2023: 71\\nDec 2023: 152'), Document(metadata={'source': '/content/VolumeSheet.csv', 'row': 12}, page_content='Tenant: Apollo\\nWorkflow: NOTR\\nStatus: Terminated\\nJan 2023: 100\\nFeb 2023: 100\\nMar 2023: 22\\nApr 2023: 22\\nMay 2023: 25\\nJun 2023: 9\\nJul 2023: 8\\nAug 2023: 23.00\\nSep 2023: 22\\nOct 2023: 22\\nNov 2023: 25\\nDec 2023: 9'), Document(metadata={'source': '/content/VolumeSheet.csv', 'row': 13}, page_content='Tenant: Fortis\\nWorkflow: Claims\\nStatus: Total\\nJan 2023: 400\\nFeb 2023: 400\\nMar 2023: 1137\\nApr 2023: 1203\\nMay 2023: 1,053\\nJun 2023: 1,021\\nJul 2023: 929\\nAug 2023: 1,084\\nSep 2023: 1,121\\nOct 2023: 1,124\\nNov 2023: 1,304\\nDec 2023: 1,255'), Document(metadata={'source': '/content/VolumeSheet.csv', 'row': 14}, page_content='Tenant: Fortis\\nWorkflow: Claims\\nStatus: Success\\nJan 2023: 200\\nFeb 2023: 200\\nMar 2023: 853\\nApr 2023: 766\\nMay 2023: 1,046\\nJun 2023: 1,010\\nJul 2023: 918\\nAug 2023: 1,063\\nSep 2023: 1,113\\nOct 2023: 1,117\\nNov 2023: 1,286\\nDec 2023: 1,255'), Document(metadata={'source': '/content/VolumeSheet.csv', 'row': 15}, page_content='Tenant: Fortis\\nWorkflow: Claims\\nStatus: Failed\\nJan 2023: 100\\nFeb 2023: 100\\nMar 2023: 7\\nApr 2023: 4\\nMay 2023: 7\\nJun 2023: 11\\nJul 2023: 11\\nAug 2023: 21\\nSep 2023: 8\\nOct 2023: 7\\nNov 2023: 18\\nDec 2023: 0'), Document(metadata={'source': '/content/VolumeSheet.csv', 'row': 16}, page_content='Tenant: Fortis\\nWorkflow: Claims\\nStatus: Needs Attention\\nJan 2023: 100\\nFeb 2023: 100\\nMar 2023: 277\\nApr 2023: 433\\nMay 2023: 0\\nJun 2023: 0\\nJul 2023: 0\\nAug 2023: 0\\nSep 2023: 0\\nOct 2023: 0\\nNov 2023: 0\\nDec 2023: 0'), Document(metadata={'source': '/content/VolumeSheet.csv', 'row': 17}, page_content='Tenant: Fortis\\nWorkflow: NOE\\nStatus: Total\\nJan 2023: 700\\nFeb 2023: 700\\nMar 2023: 1137\\nApr 2023: 1203\\nMay 2023: 1,053\\nJun 2023: 1,021\\nJul 2023: 929\\nAug 2023: 1,084\\nSep 2023: 1,121\\nOct 2023: 1,124\\nNov 2023: 1,304\\nDec 2023: 1,255'), Document(metadata={'source': '/content/VolumeSheet.csv', 'row': 18}, page_content='Tenant: Fortis\\nWorkflow: NOE\\nStatus: Success\\nJan 2023: 500\\nFeb 2023: 500\\nMar 2023: 853\\nApr 2023: 766\\nMay 2023: 1,046\\nJun 2023: 1,010\\nJul 2023: 918\\nAug 2023: 1,063\\nSep 2023: 1,113\\nOct 2023: 1,117\\nNov 2023: 1,286\\nDec 2023: 1,255'), Document(metadata={'source': '/content/VolumeSheet.csv', 'row': 19}, page_content='Tenant: Fortis\\nWorkflow: NOE\\nStatus: Failed\\nJan 2023: 100\\nFeb 2023: 100\\nMar 2023: 7\\nApr 2023: 4\\nMay 2023: 7\\nJun 2023: 11\\nJul 2023: 11\\nAug 2023: 21\\nSep 2023: 8\\nOct 2023: 7\\nNov 2023: 18\\nDec 2023: 0'), Document(metadata={'source': '/content/VolumeSheet.csv', 'row': 20}, page_content='Tenant: Fortis\\nWorkflow: NOE\\nStatus: Needs Attention\\nJan 2023: 100\\nFeb 2023: 100\\nMar 2023: 277\\nApr 2023: 433\\nMay 2023: 0\\nJun 2023: 0\\nJul 2023: 0\\nAug 2023: 0\\nSep 2023: 0\\nOct 2023: 0\\nNov 2023: 0\\nDec 2023: 0'), Document(metadata={'source': '/content/VolumeSheet.csv', 'row': 21}, page_content='Tenant: Fortis\\nWorkflow: NOTR\\nStatus: Total\\nJan 2023: 439\\nFeb 2023: 439\\nMar 2023: 15,192\\nApr 2023: 14,441\\nMay 2023: 14,912\\nJun 2023: 14,669\\nJul 2023: 13,453\\nAug 2023: 14,998\\nSep 2023: 14,732\\nOct 2023: 13,897\\nNov 2023: 13,122\\nDec 2023: 9,373'), Document(metadata={'source': '/content/VolumeSheet.csv', 'row': 22}, page_content='Tenant: Fortis\\nWorkflow: NOTR\\nStatus: Success\\nJan 2023: 239\\nFeb 2023: 239\\nMar 2023: 15,190\\nApr 2023: 14,347\\nMay 2023: 14,819\\nJun 2023: 14,662\\nJul 2023: 13,441\\nAug 2023: 14,990\\nSep 2023: 14,699\\nOct 2023: 13,890\\nNov 2023: 13,113\\nDec 2023: 9,370'), Document(metadata={'source': '/content/VolumeSheet.csv', 'row': 23}, page_content='Tenant: Fortis\\nWorkflow: NOTR\\nStatus: Failed\\nJan 2023: 100\\nFeb 2023: 100\\nMar 2023: 2\\nApr 2023: 94\\nMay 2023: 93\\nJun 2023: 7\\nJul 2023: 12\\nAug 2023: 8\\nSep 2023: 33\\nOct 2023: 7\\nNov 2023: 9\\nDec 2023: 3'), Document(metadata={'source': '/content/VolumeSheet.csv', 'row': 24}, page_content='Tenant: Fortis\\nWorkflow: NOTR\\nStatus: Needs Attention\\nJan 2023: 100\\nFeb 2023: 100\\nMar 2023: 0\\nApr 2023: 0\\nMay 2023: 0\\nJun 2023: 0\\nJul 2023: 0\\nAug 2023: 0\\nSep 2023: 0\\nOct 2023: 0\\nNov 2023: 0\\nDec 2023: 0'), Document(metadata={'source': '/content/VolumeSheet.csv', 'row': 25}, page_content='Tenant: Fortis\\nWorkflow: NOTR\\nStatus: Terminated\\nJan 2023: 100\\nFeb 2023: 100\\nMar 2023: 110\\nApr 2023: 99\\nMay 2023: 90\\nJun 2023: 129\\nJul 2023: 163\\nAug 2023: 147\\nSep 2023: 127\\nOct 2023: 134\\nNov 2023: 89\\nDec 2023: 126'), Document(metadata={'source': '/content/VolumeSheet.csv', 'row': 26}, page_content='Tenant: Kokilaben Dhirubhai\\nWorkflow: Claims\\nStatus: Total\\nJan 2023: 439\\nFeb 2023: 439\\nMar 2023: 373\\nApr 2023: 372\\nMay 2023: 249\\nJun 2023: 264\\nJul 2023: 286\\nAug 2023: 255\\nSep 2023: 231\\nOct 2023: 213\\nNov 2023: 263\\nDec 2023: 129'), Document(metadata={'source': '/content/VolumeSheet.csv', 'row': 27}, page_content='Tenant: Kokilaben Dhirubhai\\nWorkflow: Claims\\nStatus: Success\\nJan 2023: 239\\nFeb 2023: 239\\nMar 2023: 255\\nApr 2023: 249\\nMay 2023: 163\\nJun 2023: 169\\nJul 2023: 194\\nAug 2023: 169\\nSep 2023: 158\\nOct 2023: 153\\nNov 2023: 191\\nDec 2023: 3'), Document(metadata={'source': '/content/VolumeSheet.csv', 'row': 28}, page_content='Tenant: Kokilaben Dhirubhai\\nWorkflow: Claims\\nStatus: Failed\\nJan 2023: 100\\nFeb 2023: 100\\nMar 2023: 118\\nApr 2023: 123\\nMay 2023: 86\\nJun 2023: 95\\nJul 2023: 92\\nAug 2023: 86\\nSep 2023: 73\\nOct 2023: 60\\nNov 2023: 72\\nDec 2023: 0'), Document(metadata={'source': '/content/VolumeSheet.csv', 'row': 29}, page_content='Tenant: Kokilaben Dhirubhai\\nWorkflow: Claims\\nStatus: Needs Attention\\nJan 2023: 100\\nFeb 2023: 100\\nMar 2023: 0\\nApr 2023: 0\\nMay 2023: 0\\nJun 2023: 0\\nJul 2023: 0\\nAug 2023: 0\\nSep 2023: 0\\nOct 2023: 0\\nNov 2023: 0\\nDec 2023: 126'), Document(metadata={'source': '/content/VolumeSheet.csv', 'row': 30}, page_content='Tenant: Kokilaben Dhirubhai\\nWorkflow: NOE\\nStatus: Total\\nJan 2023: 439\\nFeb 2023: 439\\nMar 2023: 373\\nApr 2023: 372\\nMay 2023: 249\\nJun 2023: 264\\nJul 2023: 286\\nAug 2023: 255\\nSep 2023: 231\\nOct 2023: 213\\nNov 2023: 263\\nDec 2023: 129'), Document(metadata={'source': '/content/VolumeSheet.csv', 'row': 31}, page_content='Tenant: Kokilaben Dhirubhai\\nWorkflow: NOE\\nStatus: Success\\nJan 2023: 239\\nFeb 2023: 239\\nMar 2023: 255\\nApr 2023: 249\\nMay 2023: 163\\nJun 2023: 169\\nJul 2023: 194\\nAug 2023: 169\\nSep 2023: 158\\nOct 2023: 153\\nNov 2023: 191\\nDec 2023: 3'), Document(metadata={'source': '/content/VolumeSheet.csv', 'row': 32}, page_content='Tenant: Kokilaben Dhirubhai\\nWorkflow: NOE\\nStatus: Failed\\nJan 2023: 100\\nFeb 2023: 100\\nMar 2023: 118\\nApr 2023: 123\\nMay 2023: 86\\nJun 2023: 95\\nJul 2023: 92\\nAug 2023: 86\\nSep 2023: 73\\nOct 2023: 60\\nNov 2023: 72\\nDec 2023: 0'), Document(metadata={'source': '/content/VolumeSheet.csv', 'row': 33}, page_content='Tenant: Kokilaben Dhirubhai\\nWorkflow: NOE\\nStatus: Needs Attention\\nJan 2023: 100\\nFeb 2023: 100\\nMar 2023: 0\\nApr 2023: 0\\nMay 2023: 0\\nJun 2023: 0\\nJul 2023: 0\\nAug 2023: 0\\nSep 2023: 0\\nOct 2023: 0\\nNov 2023: 0\\nDec 2023: 126'), Document(metadata={'source': '/content/VolumeSheet.csv', 'row': 34}, page_content='Tenant: Kokilaben Dhirubhai\\nWorkflow: NOTR\\nStatus: Total\\nJan 2023: 439\\nFeb 2023: 439\\nMar 2023: 1,282\\nApr 2023: 1,127\\nMay 2023: 1048\\nJun 2023: 827\\nJul 2023: 819\\nAug 2023: 727\\nSep 2023: 739\\nOct 2023: 755\\nNov 2023: 897\\nDec 2023: 1,245'), Document(metadata={'source': '/content/VolumeSheet.csv', 'row': 35}, page_content='Tenant: Kokilaben Dhirubhai\\nWorkflow: NOTR\\nStatus: Success\\nJan 2023: 239\\nFeb 2023: 239\\nMar 2023: 1,176\\nApr 2023: 1,029\\nMay 2023: 949\\nJun 2023: 781\\nJul 2023: 749\\nAug 2023: 696\\nSep 2023: 685\\nOct 2023: 697\\nNov 2023: 790\\nDec 2023: 1,041'), Document(metadata={'source': '/content/VolumeSheet.csv', 'row': 36}, page_content='Tenant: Kokilaben Dhirubhai\\nWorkflow: NOTR\\nStatus: Failed\\nJan 2023: 100\\nFeb 2023: 100\\nMar 2023: 106\\nApr 2023: 98\\nMay 2023: 99\\nJun 2023: 46\\nJul 2023: 70\\nAug 2023: 31\\nSep 2023: 54\\nOct 2023: 58\\nNov 2023: 107\\nDec 2023: 204'), Document(metadata={'source': '/content/VolumeSheet.csv', 'row': 37}, page_content='Tenant: Kokilaben Dhirubhai\\nWorkflow: NOTR\\nStatus: Needs Attention\\nJan 2023: 100\\nFeb 2023: 100\\nMar 2023: 0\\nApr 2023: 0\\nMay 2023: 0\\nJun 2023: 0\\nJul 2023: 0\\nAug 2023: 0\\nSep 2023: 0\\nOct 2023: 0\\nNov 2023: 0\\nDec 2023: 0'), Document(metadata={'source': '/content/VolumeSheet.csv', 'row': 38}, page_content='Tenant: Kokilaben Dhirubhai\\nWorkflow: NOTR\\nStatus: Terminated\\nJan 2023: 100\\nFeb 2023: 100\\nMar 2023: 64\\nApr 2023: 135\\nMay 2023: 73\\nJun 2023: 191\\nJul 2023: 69\\nAug 2023: 99\\nSep 2023: 46\\nOct 2023: 20\\nNov 2023: 1\\nDec 2023: 11')]\n"
          ]
        }
      ],
      "source": [
        "from langchain_community.document_loaders.csv_loader import CSVLoader\n",
        "\n",
        "loader = CSVLoader(file_path=\"/content/VolumeSheet.csv\")\n",
        "\n",
        "data = loader.load()\n",
        "\n",
        "print(data)\n",
        "\n"
      ]
    },
    {
      "cell_type": "code",
      "execution_count": null,
      "metadata": {
        "colab": {
          "base_uri": "https://localhost:8080/"
        },
        "id": "sxknnnco2pBI",
        "outputId": "1b4dbf02-df05-4f22-f799-8bedff0c1f3b"
      },
      "outputs": [
        {
          "output_type": "stream",
          "name": "stdout",
          "text": [
            "[Document(metadata={'source': '/content/VolumeSheet.csv', 'row': 0}, page_content='Tenant: Apollo\\nWorkflow: Claims\\nStatus: Total\\nJan 2023: 439\\nFeb 2023: 439\\nMar 2023: 1099\\nApr 2023: 194\\nMay 2023: 200\\nJun 2023: 161\\nJul 2023: 198\\nAug 2023: 153\\nSep 2023: 194\\nOct 2023: 200\\nNov 2023: 161\\nDec 2023: 198'), Document(metadata={'source': '/content/VolumeSheet.csv', 'row': 1}, page_content='Tenant: Apollo\\nWorkflow: Claims\\nStatus: Success\\nJan 2023: 239\\nFeb 2023: 239\\nMar 2023: 899\\nApr 2023: 192\\nMay 2023: 164\\nJun 2023: 103\\nJul 2023: 152\\nAug 2023: 149\\nSep 2023: 192\\nOct 2023: 164\\nNov 2023: 103\\nDec 2023: 152'), Document(metadata={'source': '/content/VolumeSheet.csv', 'row': 2}, page_content='Tenant: Apollo\\nWorkflow: Claims\\nStatus: Failed\\nJan 2023: 100\\nFeb 2023: 100\\nMar 2023: 100\\nApr 2023: 0\\nMay 2023: 0\\nJun 2023: 0\\nJul 2023: 0\\nAug 2023: 0\\nSep 2023: 0\\nOct 2023: 0\\nNov 2023: 0\\nDec 2023: 0'), Document(metadata={'source': '/content/VolumeSheet.csv', 'row': 3}, page_content='Tenant: Apollo\\nWorkflow: Claims\\nStatus: Needs Attention\\nJan 2023: 100\\nFeb 2023: 100\\nMar 2023: 100\\nApr 2023: 2\\nMay 2023: 36\\nJun 2023: 58\\nJul 2023: 46\\nAug 2023: 4\\nSep 2023: 2\\nOct 2023: 36\\nNov 2023: 58\\nDec 2023: 46'), Document(metadata={'source': '/content/VolumeSheet.csv', 'row': 4}, page_content='Tenant: Apollo\\nWorkflow: NOE\\nStatus: Total\\nJan 2023: 800\\nFeb 2023: 800\\nMar 2023: 770\\nApr 2023: 709\\nMay 2023: 723\\nJun 2023: 536\\nJul 2023: 856\\nAug 2023: 770\\nSep 2023: 709\\nOct 2023: 723\\nNov 2023: 536\\nDec 2023: 536'), Document(metadata={'source': '/content/VolumeSheet.csv', 'row': 5}, page_content='Tenant: Apollo\\nWorkflow: NOE\\nStatus: Success\\nJan 2023: 600\\nFeb 2023: 600\\nMar 2023: 770\\nApr 2023: 700\\nMay 2023: 718\\nJun 2023: 528\\nJul 2023: 853\\nAug 2023: 770\\nSep 2023: 700\\nOct 2023: 718\\nNov 2023: 528\\nDec 2023: 528'), Document(metadata={'source': '/content/VolumeSheet.csv', 'row': 6}, page_content='Tenant: Apollo\\nWorkflow: NOE\\nStatus: Failed\\nJan 2023: 100\\nFeb 2023: 100\\nMar 2023: 0\\nApr 2023: 0\\nMay 2023: 0\\nJun 2023: 0\\nJul 2023: 0\\nAug 2023: 0\\nSep 2023: 0\\nOct 2023: 0\\nNov 2023: 0\\nDec 2023: 0'), Document(metadata={'source': '/content/VolumeSheet.csv', 'row': 7}, page_content='Tenant: Apollo\\nWorkflow: NOE\\nStatus: Needs Attention\\nJan 2023: 100\\nFeb 2023: 100\\nMar 2023: 0\\nApr 2023: 9\\nMay 2023: 5\\nJun 2023: 8\\nJul 2023: 3\\nAug 2023: 0\\nSep 2023: 9\\nOct 2023: 5\\nNov 2023: 8\\nDec 2023: 8'), Document(metadata={'source': '/content/VolumeSheet.csv', 'row': 8}, page_content='Tenant: Apollo\\nWorkflow: NOTR\\nStatus: Total\\nJan 2023: 1200\\nFeb 2023: 1200\\nMar 2023: 1791\\nApr 2023: 1139\\nMay 2023: 936\\nJun 2023: 775\\nJul 2023: 687\\nAug 2023: 0\\nSep 2023: 1791\\nOct 2023: 1139\\nNov 2023: 936\\nDec 2023: 775'), Document(metadata={'source': '/content/VolumeSheet.csv', 'row': 9}, page_content='Tenant: Apollo\\nWorkflow: NOTR\\nStatus: Success\\nJan 2023: 900\\nFeb 2023: 900\\nMar 2023: 0\\nApr 2023: 0\\nMay 2023: 0\\nJun 2023: 0\\nJul 2023: 0\\nAug 2023: 0\\nSep 2023: 0\\nOct 2023: 0\\nNov 2023: 0\\nDec 2023: 0'), Document(metadata={'source': '/content/VolumeSheet.csv', 'row': 10}, page_content='Tenant: Apollo\\nWorkflow: NOTR\\nStatus: Failed\\nJan 2023: 100\\nFeb 2023: 100\\nMar 2023: 1,390\\nApr 2023: 1,001\\nMay 2023: 840\\nJun 2023: 614\\nJul 2023: 628\\nAug 2023: 1,077.00\\nSep 2023: 1,390\\nOct 2023: 1,001\\nNov 2023: 840\\nDec 2023: 614'), Document(metadata={'source': '/content/VolumeSheet.csv', 'row': 11}, page_content='Tenant: Apollo\\nWorkflow: NOTR\\nStatus: Needs Attention\\nJan 2023: 100\\nFeb 2023: 100\\nMar 2023: 379\\nApr 2023: 116\\nMay 2023: 71\\nJun 2023: 152\\nJul 2023: 51\\nAug 2023: 188.67\\nSep 2023: 379\\nOct 2023: 116\\nNov 2023: 71\\nDec 2023: 152'), Document(metadata={'source': '/content/VolumeSheet.csv', 'row': 12}, page_content='Tenant: Apollo\\nWorkflow: NOTR\\nStatus: Terminated\\nJan 2023: 100\\nFeb 2023: 100\\nMar 2023: 22\\nApr 2023: 22\\nMay 2023: 25\\nJun 2023: 9\\nJul 2023: 8\\nAug 2023: 23.00\\nSep 2023: 22\\nOct 2023: 22\\nNov 2023: 25\\nDec 2023: 9'), Document(metadata={'source': '/content/VolumeSheet.csv', 'row': 13}, page_content='Tenant: Fortis\\nWorkflow: Claims\\nStatus: Total\\nJan 2023: 400\\nFeb 2023: 400\\nMar 2023: 1137\\nApr 2023: 1203\\nMay 2023: 1,053\\nJun 2023: 1,021\\nJul 2023: 929\\nAug 2023: 1,084\\nSep 2023: 1,121\\nOct 2023: 1,124\\nNov 2023: 1,304\\nDec 2023: 1,255'), Document(metadata={'source': '/content/VolumeSheet.csv', 'row': 14}, page_content='Tenant: Fortis\\nWorkflow: Claims\\nStatus: Success\\nJan 2023: 200\\nFeb 2023: 200\\nMar 2023: 853\\nApr 2023: 766\\nMay 2023: 1,046\\nJun 2023: 1,010\\nJul 2023: 918\\nAug 2023: 1,063\\nSep 2023: 1,113\\nOct 2023: 1,117\\nNov 2023: 1,286\\nDec 2023: 1,255'), Document(metadata={'source': '/content/VolumeSheet.csv', 'row': 15}, page_content='Tenant: Fortis\\nWorkflow: Claims\\nStatus: Failed\\nJan 2023: 100\\nFeb 2023: 100\\nMar 2023: 7\\nApr 2023: 4\\nMay 2023: 7\\nJun 2023: 11\\nJul 2023: 11\\nAug 2023: 21\\nSep 2023: 8\\nOct 2023: 7\\nNov 2023: 18\\nDec 2023: 0'), Document(metadata={'source': '/content/VolumeSheet.csv', 'row': 16}, page_content='Tenant: Fortis\\nWorkflow: Claims\\nStatus: Needs Attention\\nJan 2023: 100\\nFeb 2023: 100\\nMar 2023: 277\\nApr 2023: 433\\nMay 2023: 0\\nJun 2023: 0\\nJul 2023: 0\\nAug 2023: 0\\nSep 2023: 0\\nOct 2023: 0\\nNov 2023: 0\\nDec 2023: 0'), Document(metadata={'source': '/content/VolumeSheet.csv', 'row': 17}, page_content='Tenant: Fortis\\nWorkflow: NOE\\nStatus: Total\\nJan 2023: 700\\nFeb 2023: 700\\nMar 2023: 1137\\nApr 2023: 1203\\nMay 2023: 1,053\\nJun 2023: 1,021\\nJul 2023: 929\\nAug 2023: 1,084\\nSep 2023: 1,121\\nOct 2023: 1,124\\nNov 2023: 1,304\\nDec 2023: 1,255'), Document(metadata={'source': '/content/VolumeSheet.csv', 'row': 18}, page_content='Tenant: Fortis\\nWorkflow: NOE\\nStatus: Success\\nJan 2023: 500\\nFeb 2023: 500\\nMar 2023: 853\\nApr 2023: 766\\nMay 2023: 1,046\\nJun 2023: 1,010\\nJul 2023: 918\\nAug 2023: 1,063\\nSep 2023: 1,113\\nOct 2023: 1,117\\nNov 2023: 1,286\\nDec 2023: 1,255'), Document(metadata={'source': '/content/VolumeSheet.csv', 'row': 19}, page_content='Tenant: Fortis\\nWorkflow: NOE\\nStatus: Failed\\nJan 2023: 100\\nFeb 2023: 100\\nMar 2023: 7\\nApr 2023: 4\\nMay 2023: 7\\nJun 2023: 11\\nJul 2023: 11\\nAug 2023: 21\\nSep 2023: 8\\nOct 2023: 7\\nNov 2023: 18\\nDec 2023: 0'), Document(metadata={'source': '/content/VolumeSheet.csv', 'row': 20}, page_content='Tenant: Fortis\\nWorkflow: NOE\\nStatus: Needs Attention\\nJan 2023: 100\\nFeb 2023: 100\\nMar 2023: 277\\nApr 2023: 433\\nMay 2023: 0\\nJun 2023: 0\\nJul 2023: 0\\nAug 2023: 0\\nSep 2023: 0\\nOct 2023: 0\\nNov 2023: 0\\nDec 2023: 0'), Document(metadata={'source': '/content/VolumeSheet.csv', 'row': 21}, page_content='Tenant: Fortis\\nWorkflow: NOTR\\nStatus: Total\\nJan 2023: 439\\nFeb 2023: 439\\nMar 2023: 15,192\\nApr 2023: 14,441\\nMay 2023: 14,912\\nJun 2023: 14,669\\nJul 2023: 13,453\\nAug 2023: 14,998\\nSep 2023: 14,732\\nOct 2023: 13,897\\nNov 2023: 13,122\\nDec 2023: 9,373'), Document(metadata={'source': '/content/VolumeSheet.csv', 'row': 22}, page_content='Tenant: Fortis\\nWorkflow: NOTR\\nStatus: Success\\nJan 2023: 239\\nFeb 2023: 239\\nMar 2023: 15,190\\nApr 2023: 14,347\\nMay 2023: 14,819\\nJun 2023: 14,662\\nJul 2023: 13,441\\nAug 2023: 14,990\\nSep 2023: 14,699\\nOct 2023: 13,890\\nNov 2023: 13,113\\nDec 2023: 9,370'), Document(metadata={'source': '/content/VolumeSheet.csv', 'row': 23}, page_content='Tenant: Fortis\\nWorkflow: NOTR\\nStatus: Failed\\nJan 2023: 100\\nFeb 2023: 100\\nMar 2023: 2\\nApr 2023: 94\\nMay 2023: 93\\nJun 2023: 7\\nJul 2023: 12\\nAug 2023: 8\\nSep 2023: 33\\nOct 2023: 7\\nNov 2023: 9\\nDec 2023: 3'), Document(metadata={'source': '/content/VolumeSheet.csv', 'row': 24}, page_content='Tenant: Fortis\\nWorkflow: NOTR\\nStatus: Needs Attention\\nJan 2023: 100\\nFeb 2023: 100\\nMar 2023: 0\\nApr 2023: 0\\nMay 2023: 0\\nJun 2023: 0\\nJul 2023: 0\\nAug 2023: 0\\nSep 2023: 0\\nOct 2023: 0\\nNov 2023: 0\\nDec 2023: 0'), Document(metadata={'source': '/content/VolumeSheet.csv', 'row': 25}, page_content='Tenant: Fortis\\nWorkflow: NOTR\\nStatus: Terminated\\nJan 2023: 100\\nFeb 2023: 100\\nMar 2023: 110\\nApr 2023: 99\\nMay 2023: 90\\nJun 2023: 129\\nJul 2023: 163\\nAug 2023: 147\\nSep 2023: 127\\nOct 2023: 134\\nNov 2023: 89\\nDec 2023: 126'), Document(metadata={'source': '/content/VolumeSheet.csv', 'row': 26}, page_content='Tenant: Kokilaben Dhirubhai\\nWorkflow: Claims\\nStatus: Total\\nJan 2023: 439\\nFeb 2023: 439\\nMar 2023: 373\\nApr 2023: 372\\nMay 2023: 249\\nJun 2023: 264\\nJul 2023: 286\\nAug 2023: 255\\nSep 2023: 231\\nOct 2023: 213\\nNov 2023: 263\\nDec 2023: 129'), Document(metadata={'source': '/content/VolumeSheet.csv', 'row': 27}, page_content='Tenant: Kokilaben Dhirubhai\\nWorkflow: Claims\\nStatus: Success\\nJan 2023: 239\\nFeb 2023: 239\\nMar 2023: 255\\nApr 2023: 249\\nMay 2023: 163\\nJun 2023: 169\\nJul 2023: 194\\nAug 2023: 169\\nSep 2023: 158\\nOct 2023: 153\\nNov 2023: 191\\nDec 2023: 3'), Document(metadata={'source': '/content/VolumeSheet.csv', 'row': 28}, page_content='Tenant: Kokilaben Dhirubhai\\nWorkflow: Claims\\nStatus: Failed\\nJan 2023: 100\\nFeb 2023: 100\\nMar 2023: 118\\nApr 2023: 123\\nMay 2023: 86\\nJun 2023: 95\\nJul 2023: 92\\nAug 2023: 86\\nSep 2023: 73\\nOct 2023: 60\\nNov 2023: 72\\nDec 2023: 0'), Document(metadata={'source': '/content/VolumeSheet.csv', 'row': 29}, page_content='Tenant: Kokilaben Dhirubhai\\nWorkflow: Claims\\nStatus: Needs Attention\\nJan 2023: 100\\nFeb 2023: 100\\nMar 2023: 0\\nApr 2023: 0\\nMay 2023: 0\\nJun 2023: 0\\nJul 2023: 0\\nAug 2023: 0\\nSep 2023: 0\\nOct 2023: 0\\nNov 2023: 0\\nDec 2023: 126'), Document(metadata={'source': '/content/VolumeSheet.csv', 'row': 30}, page_content='Tenant: Kokilaben Dhirubhai\\nWorkflow: NOE\\nStatus: Total\\nJan 2023: 439\\nFeb 2023: 439\\nMar 2023: 373\\nApr 2023: 372\\nMay 2023: 249\\nJun 2023: 264\\nJul 2023: 286\\nAug 2023: 255\\nSep 2023: 231\\nOct 2023: 213\\nNov 2023: 263\\nDec 2023: 129'), Document(metadata={'source': '/content/VolumeSheet.csv', 'row': 31}, page_content='Tenant: Kokilaben Dhirubhai\\nWorkflow: NOE\\nStatus: Success\\nJan 2023: 239\\nFeb 2023: 239\\nMar 2023: 255\\nApr 2023: 249\\nMay 2023: 163\\nJun 2023: 169\\nJul 2023: 194\\nAug 2023: 169\\nSep 2023: 158\\nOct 2023: 153\\nNov 2023: 191\\nDec 2023: 3'), Document(metadata={'source': '/content/VolumeSheet.csv', 'row': 32}, page_content='Tenant: Kokilaben Dhirubhai\\nWorkflow: NOE\\nStatus: Failed\\nJan 2023: 100\\nFeb 2023: 100\\nMar 2023: 118\\nApr 2023: 123\\nMay 2023: 86\\nJun 2023: 95\\nJul 2023: 92\\nAug 2023: 86\\nSep 2023: 73\\nOct 2023: 60\\nNov 2023: 72\\nDec 2023: 0'), Document(metadata={'source': '/content/VolumeSheet.csv', 'row': 33}, page_content='Tenant: Kokilaben Dhirubhai\\nWorkflow: NOE\\nStatus: Needs Attention\\nJan 2023: 100\\nFeb 2023: 100\\nMar 2023: 0\\nApr 2023: 0\\nMay 2023: 0\\nJun 2023: 0\\nJul 2023: 0\\nAug 2023: 0\\nSep 2023: 0\\nOct 2023: 0\\nNov 2023: 0\\nDec 2023: 126'), Document(metadata={'source': '/content/VolumeSheet.csv', 'row': 34}, page_content='Tenant: Kokilaben Dhirubhai\\nWorkflow: NOTR\\nStatus: Total\\nJan 2023: 439\\nFeb 2023: 439\\nMar 2023: 1,282\\nApr 2023: 1,127\\nMay 2023: 1048\\nJun 2023: 827\\nJul 2023: 819\\nAug 2023: 727\\nSep 2023: 739\\nOct 2023: 755\\nNov 2023: 897\\nDec 2023: 1,245'), Document(metadata={'source': '/content/VolumeSheet.csv', 'row': 35}, page_content='Tenant: Kokilaben Dhirubhai\\nWorkflow: NOTR\\nStatus: Success\\nJan 2023: 239\\nFeb 2023: 239\\nMar 2023: 1,176\\nApr 2023: 1,029\\nMay 2023: 949\\nJun 2023: 781\\nJul 2023: 749\\nAug 2023: 696\\nSep 2023: 685\\nOct 2023: 697\\nNov 2023: 790\\nDec 2023: 1,041'), Document(metadata={'source': '/content/VolumeSheet.csv', 'row': 36}, page_content='Tenant: Kokilaben Dhirubhai\\nWorkflow: NOTR\\nStatus: Failed\\nJan 2023: 100\\nFeb 2023: 100\\nMar 2023: 106\\nApr 2023: 98\\nMay 2023: 99\\nJun 2023: 46\\nJul 2023: 70\\nAug 2023: 31\\nSep 2023: 54\\nOct 2023: 58\\nNov 2023: 107\\nDec 2023: 204'), Document(metadata={'source': '/content/VolumeSheet.csv', 'row': 37}, page_content='Tenant: Kokilaben Dhirubhai\\nWorkflow: NOTR\\nStatus: Needs Attention\\nJan 2023: 100\\nFeb 2023: 100\\nMar 2023: 0\\nApr 2023: 0\\nMay 2023: 0\\nJun 2023: 0\\nJul 2023: 0\\nAug 2023: 0\\nSep 2023: 0\\nOct 2023: 0\\nNov 2023: 0\\nDec 2023: 0'), Document(metadata={'source': '/content/VolumeSheet.csv', 'row': 38}, page_content='Tenant: Kokilaben Dhirubhai\\nWorkflow: NOTR\\nStatus: Terminated\\nJan 2023: 100\\nFeb 2023: 100\\nMar 2023: 64\\nApr 2023: 135\\nMay 2023: 73\\nJun 2023: 191\\nJul 2023: 69\\nAug 2023: 99\\nSep 2023: 46\\nOct 2023: 20\\nNov 2023: 1\\nDec 2023: 11')]\n"
          ]
        }
      ],
      "source": [
        "#Print data to check it out\n",
        "print(data)"
      ]
    },
    {
      "cell_type": "markdown",
      "metadata": {
        "id": "kNLpYabc2tx_"
      },
      "source": [
        "#### <font color=FF595E>Split the document</font>"
      ]
    },
    {
      "cell_type": "code",
      "execution_count": null,
      "metadata": {
        "id": "svFdzUPS2ytp"
      },
      "outputs": [],
      "source": [
        "# Import text splitter\n",
        "from langchain.text_splitter import RecursiveCharacterTextSplitter\n",
        "\n",
        "# Create an instance of RecursiveCharacterTextSplitter with custom chunk size and overlap\n",
        "chunk_size = 750  # Adjust the chunk size as needed\n",
        "chunk_overlap = 0  # Set the overlap between chunks\n",
        "\n",
        "#Initiate splitter with desired parameters\n",
        "splitter = RecursiveCharacterTextSplitter(chunk_size=chunk_size, chunk_overlap=chunk_overlap)"
      ]
    },
    {
      "cell_type": "code",
      "execution_count": null,
      "metadata": {
        "id": "i2ZcHsDf3yS9"
      },
      "outputs": [],
      "source": [
        "# Split the document into chunks using the RecursiveCharacterTextSplitter\n",
        "splits = splitter.split_documents(data)\n"
      ]
    },
    {
      "cell_type": "code",
      "execution_count": null,
      "metadata": {
        "id": "3nfNyuCDQE7Q"
      },
      "outputs": [],
      "source": [
        "splits = splitter.split_documents(data)\n"
      ]
    },
    {
      "cell_type": "code",
      "execution_count": null,
      "metadata": {
        "colab": {
          "base_uri": "https://localhost:8080/"
        },
        "id": "ctHNhuIT38Ve",
        "outputId": "de24760b-d0ac-431b-e54d-dd7e4ea40ec8"
      },
      "outputs": [
        {
          "output_type": "stream",
          "name": "stdout",
          "text": [
            "39\n"
          ]
        }
      ],
      "source": [
        "# Print the number of splits in the doc\n",
        "print(len(splits))"
      ]
    },
    {
      "cell_type": "code",
      "execution_count": null,
      "metadata": {
        "colab": {
          "base_uri": "https://localhost:8080/"
        },
        "collapsed": true,
        "id": "s3nVIdtA4F0j",
        "outputId": "71069563-922b-4f50-f14d-0576a97dc735"
      },
      "outputs": [
        {
          "output_type": "stream",
          "name": "stdout",
          "text": [
            "page_content='Tenant: Apollo\n",
            "Workflow: Claims\n",
            "Status: Total\n",
            "Jan 2023: 439\n",
            "Feb 2023: 439\n",
            "Mar 2023: 1099\n",
            "Apr 2023: 194\n",
            "May 2023: 200\n",
            "Jun 2023: 161\n",
            "Jul 2023: 198\n",
            "Aug 2023: 153\n",
            "Sep 2023: 194\n",
            "Oct 2023: 200\n",
            "Nov 2023: 161\n",
            "Dec 2023: 198' metadata={'source': '/content/VolumeSheet.csv', 'row': 0}\n",
            "---\n",
            "page_content='Tenant: Apollo\n",
            "Workflow: Claims\n",
            "Status: Success\n",
            "Jan 2023: 239\n",
            "Feb 2023: 239\n",
            "Mar 2023: 899\n",
            "Apr 2023: 192\n",
            "May 2023: 164\n",
            "Jun 2023: 103\n",
            "Jul 2023: 152\n",
            "Aug 2023: 149\n",
            "Sep 2023: 192\n",
            "Oct 2023: 164\n",
            "Nov 2023: 103\n",
            "Dec 2023: 152' metadata={'source': '/content/VolumeSheet.csv', 'row': 1}\n",
            "---\n",
            "page_content='Tenant: Apollo\n",
            "Workflow: Claims\n",
            "Status: Failed\n",
            "Jan 2023: 100\n",
            "Feb 2023: 100\n",
            "Mar 2023: 100\n",
            "Apr 2023: 0\n",
            "May 2023: 0\n",
            "Jun 2023: 0\n",
            "Jul 2023: 0\n",
            "Aug 2023: 0\n",
            "Sep 2023: 0\n",
            "Oct 2023: 0\n",
            "Nov 2023: 0\n",
            "Dec 2023: 0' metadata={'source': '/content/VolumeSheet.csv', 'row': 2}\n",
            "---\n",
            "page_content='Tenant: Apollo\n",
            "Workflow: Claims\n",
            "Status: Needs Attention\n",
            "Jan 2023: 100\n",
            "Feb 2023: 100\n",
            "Mar 2023: 100\n",
            "Apr 2023: 2\n",
            "May 2023: 36\n",
            "Jun 2023: 58\n",
            "Jul 2023: 46\n",
            "Aug 2023: 4\n",
            "Sep 2023: 2\n",
            "Oct 2023: 36\n",
            "Nov 2023: 58\n",
            "Dec 2023: 46' metadata={'source': '/content/VolumeSheet.csv', 'row': 3}\n",
            "---\n",
            "page_content='Tenant: Apollo\n",
            "Workflow: NOE\n",
            "Status: Total\n",
            "Jan 2023: 800\n",
            "Feb 2023: 800\n",
            "Mar 2023: 770\n",
            "Apr 2023: 709\n",
            "May 2023: 723\n",
            "Jun 2023: 536\n",
            "Jul 2023: 856\n",
            "Aug 2023: 770\n",
            "Sep 2023: 709\n",
            "Oct 2023: 723\n",
            "Nov 2023: 536\n",
            "Dec 2023: 536' metadata={'source': '/content/VolumeSheet.csv', 'row': 4}\n",
            "---\n",
            "page_content='Tenant: Apollo\n",
            "Workflow: NOE\n",
            "Status: Success\n",
            "Jan 2023: 600\n",
            "Feb 2023: 600\n",
            "Mar 2023: 770\n",
            "Apr 2023: 700\n",
            "May 2023: 718\n",
            "Jun 2023: 528\n",
            "Jul 2023: 853\n",
            "Aug 2023: 770\n",
            "Sep 2023: 700\n",
            "Oct 2023: 718\n",
            "Nov 2023: 528\n",
            "Dec 2023: 528' metadata={'source': '/content/VolumeSheet.csv', 'row': 5}\n",
            "---\n",
            "page_content='Tenant: Apollo\n",
            "Workflow: NOE\n",
            "Status: Failed\n",
            "Jan 2023: 100\n",
            "Feb 2023: 100\n",
            "Mar 2023: 0\n",
            "Apr 2023: 0\n",
            "May 2023: 0\n",
            "Jun 2023: 0\n",
            "Jul 2023: 0\n",
            "Aug 2023: 0\n",
            "Sep 2023: 0\n",
            "Oct 2023: 0\n",
            "Nov 2023: 0\n",
            "Dec 2023: 0' metadata={'source': '/content/VolumeSheet.csv', 'row': 6}\n",
            "---\n",
            "page_content='Tenant: Apollo\n",
            "Workflow: NOE\n",
            "Status: Needs Attention\n",
            "Jan 2023: 100\n",
            "Feb 2023: 100\n",
            "Mar 2023: 0\n",
            "Apr 2023: 9\n",
            "May 2023: 5\n",
            "Jun 2023: 8\n",
            "Jul 2023: 3\n",
            "Aug 2023: 0\n",
            "Sep 2023: 9\n",
            "Oct 2023: 5\n",
            "Nov 2023: 8\n",
            "Dec 2023: 8' metadata={'source': '/content/VolumeSheet.csv', 'row': 7}\n",
            "---\n",
            "page_content='Tenant: Apollo\n",
            "Workflow: NOTR\n",
            "Status: Total\n",
            "Jan 2023: 1200\n",
            "Feb 2023: 1200\n",
            "Mar 2023: 1791\n",
            "Apr 2023: 1139\n",
            "May 2023: 936\n",
            "Jun 2023: 775\n",
            "Jul 2023: 687\n",
            "Aug 2023: 0\n",
            "Sep 2023: 1791\n",
            "Oct 2023: 1139\n",
            "Nov 2023: 936\n",
            "Dec 2023: 775' metadata={'source': '/content/VolumeSheet.csv', 'row': 8}\n",
            "---\n",
            "page_content='Tenant: Apollo\n",
            "Workflow: NOTR\n",
            "Status: Success\n",
            "Jan 2023: 900\n",
            "Feb 2023: 900\n",
            "Mar 2023: 0\n",
            "Apr 2023: 0\n",
            "May 2023: 0\n",
            "Jun 2023: 0\n",
            "Jul 2023: 0\n",
            "Aug 2023: 0\n",
            "Sep 2023: 0\n",
            "Oct 2023: 0\n",
            "Nov 2023: 0\n",
            "Dec 2023: 0' metadata={'source': '/content/VolumeSheet.csv', 'row': 9}\n",
            "---\n",
            "page_content='Tenant: Apollo\n",
            "Workflow: NOTR\n",
            "Status: Failed\n",
            "Jan 2023: 100\n",
            "Feb 2023: 100\n",
            "Mar 2023: 1,390\n",
            "Apr 2023: 1,001\n",
            "May 2023: 840\n",
            "Jun 2023: 614\n",
            "Jul 2023: 628\n",
            "Aug 2023: 1,077.00\n",
            "Sep 2023: 1,390\n",
            "Oct 2023: 1,001\n",
            "Nov 2023: 840\n",
            "Dec 2023: 614' metadata={'source': '/content/VolumeSheet.csv', 'row': 10}\n",
            "---\n",
            "page_content='Tenant: Apollo\n",
            "Workflow: NOTR\n",
            "Status: Needs Attention\n",
            "Jan 2023: 100\n",
            "Feb 2023: 100\n",
            "Mar 2023: 379\n",
            "Apr 2023: 116\n",
            "May 2023: 71\n",
            "Jun 2023: 152\n",
            "Jul 2023: 51\n",
            "Aug 2023: 188.67\n",
            "Sep 2023: 379\n",
            "Oct 2023: 116\n",
            "Nov 2023: 71\n",
            "Dec 2023: 152' metadata={'source': '/content/VolumeSheet.csv', 'row': 11}\n",
            "---\n",
            "page_content='Tenant: Apollo\n",
            "Workflow: NOTR\n",
            "Status: Terminated\n",
            "Jan 2023: 100\n",
            "Feb 2023: 100\n",
            "Mar 2023: 22\n",
            "Apr 2023: 22\n",
            "May 2023: 25\n",
            "Jun 2023: 9\n",
            "Jul 2023: 8\n",
            "Aug 2023: 23.00\n",
            "Sep 2023: 22\n",
            "Oct 2023: 22\n",
            "Nov 2023: 25\n",
            "Dec 2023: 9' metadata={'source': '/content/VolumeSheet.csv', 'row': 12}\n",
            "---\n",
            "page_content='Tenant: Fortis\n",
            "Workflow: Claims\n",
            "Status: Total\n",
            "Jan 2023: 400\n",
            "Feb 2023: 400\n",
            "Mar 2023: 1137\n",
            "Apr 2023: 1203\n",
            "May 2023: 1,053\n",
            "Jun 2023: 1,021\n",
            "Jul 2023: 929\n",
            "Aug 2023: 1,084\n",
            "Sep 2023: 1,121\n",
            "Oct 2023: 1,124\n",
            "Nov 2023: 1,304\n",
            "Dec 2023: 1,255' metadata={'source': '/content/VolumeSheet.csv', 'row': 13}\n",
            "---\n",
            "page_content='Tenant: Fortis\n",
            "Workflow: Claims\n",
            "Status: Success\n",
            "Jan 2023: 200\n",
            "Feb 2023: 200\n",
            "Mar 2023: 853\n",
            "Apr 2023: 766\n",
            "May 2023: 1,046\n",
            "Jun 2023: 1,010\n",
            "Jul 2023: 918\n",
            "Aug 2023: 1,063\n",
            "Sep 2023: 1,113\n",
            "Oct 2023: 1,117\n",
            "Nov 2023: 1,286\n",
            "Dec 2023: 1,255' metadata={'source': '/content/VolumeSheet.csv', 'row': 14}\n",
            "---\n",
            "page_content='Tenant: Fortis\n",
            "Workflow: Claims\n",
            "Status: Failed\n",
            "Jan 2023: 100\n",
            "Feb 2023: 100\n",
            "Mar 2023: 7\n",
            "Apr 2023: 4\n",
            "May 2023: 7\n",
            "Jun 2023: 11\n",
            "Jul 2023: 11\n",
            "Aug 2023: 21\n",
            "Sep 2023: 8\n",
            "Oct 2023: 7\n",
            "Nov 2023: 18\n",
            "Dec 2023: 0' metadata={'source': '/content/VolumeSheet.csv', 'row': 15}\n",
            "---\n",
            "page_content='Tenant: Fortis\n",
            "Workflow: Claims\n",
            "Status: Needs Attention\n",
            "Jan 2023: 100\n",
            "Feb 2023: 100\n",
            "Mar 2023: 277\n",
            "Apr 2023: 433\n",
            "May 2023: 0\n",
            "Jun 2023: 0\n",
            "Jul 2023: 0\n",
            "Aug 2023: 0\n",
            "Sep 2023: 0\n",
            "Oct 2023: 0\n",
            "Nov 2023: 0\n",
            "Dec 2023: 0' metadata={'source': '/content/VolumeSheet.csv', 'row': 16}\n",
            "---\n",
            "page_content='Tenant: Fortis\n",
            "Workflow: NOE\n",
            "Status: Total\n",
            "Jan 2023: 700\n",
            "Feb 2023: 700\n",
            "Mar 2023: 1137\n",
            "Apr 2023: 1203\n",
            "May 2023: 1,053\n",
            "Jun 2023: 1,021\n",
            "Jul 2023: 929\n",
            "Aug 2023: 1,084\n",
            "Sep 2023: 1,121\n",
            "Oct 2023: 1,124\n",
            "Nov 2023: 1,304\n",
            "Dec 2023: 1,255' metadata={'source': '/content/VolumeSheet.csv', 'row': 17}\n",
            "---\n",
            "page_content='Tenant: Fortis\n",
            "Workflow: NOE\n",
            "Status: Success\n",
            "Jan 2023: 500\n",
            "Feb 2023: 500\n",
            "Mar 2023: 853\n",
            "Apr 2023: 766\n",
            "May 2023: 1,046\n",
            "Jun 2023: 1,010\n",
            "Jul 2023: 918\n",
            "Aug 2023: 1,063\n",
            "Sep 2023: 1,113\n",
            "Oct 2023: 1,117\n",
            "Nov 2023: 1,286\n",
            "Dec 2023: 1,255' metadata={'source': '/content/VolumeSheet.csv', 'row': 18}\n",
            "---\n",
            "page_content='Tenant: Fortis\n",
            "Workflow: NOE\n",
            "Status: Failed\n",
            "Jan 2023: 100\n",
            "Feb 2023: 100\n",
            "Mar 2023: 7\n",
            "Apr 2023: 4\n",
            "May 2023: 7\n",
            "Jun 2023: 11\n",
            "Jul 2023: 11\n",
            "Aug 2023: 21\n",
            "Sep 2023: 8\n",
            "Oct 2023: 7\n",
            "Nov 2023: 18\n",
            "Dec 2023: 0' metadata={'source': '/content/VolumeSheet.csv', 'row': 19}\n",
            "---\n",
            "page_content='Tenant: Fortis\n",
            "Workflow: NOE\n",
            "Status: Needs Attention\n",
            "Jan 2023: 100\n",
            "Feb 2023: 100\n",
            "Mar 2023: 277\n",
            "Apr 2023: 433\n",
            "May 2023: 0\n",
            "Jun 2023: 0\n",
            "Jul 2023: 0\n",
            "Aug 2023: 0\n",
            "Sep 2023: 0\n",
            "Oct 2023: 0\n",
            "Nov 2023: 0\n",
            "Dec 2023: 0' metadata={'source': '/content/VolumeSheet.csv', 'row': 20}\n",
            "---\n",
            "page_content='Tenant: Fortis\n",
            "Workflow: NOTR\n",
            "Status: Total\n",
            "Jan 2023: 439\n",
            "Feb 2023: 439\n",
            "Mar 2023: 15,192\n",
            "Apr 2023: 14,441\n",
            "May 2023: 14,912\n",
            "Jun 2023: 14,669\n",
            "Jul 2023: 13,453\n",
            "Aug 2023: 14,998\n",
            "Sep 2023: 14,732\n",
            "Oct 2023: 13,897\n",
            "Nov 2023: 13,122\n",
            "Dec 2023: 9,373' metadata={'source': '/content/VolumeSheet.csv', 'row': 21}\n",
            "---\n",
            "page_content='Tenant: Fortis\n",
            "Workflow: NOTR\n",
            "Status: Success\n",
            "Jan 2023: 239\n",
            "Feb 2023: 239\n",
            "Mar 2023: 15,190\n",
            "Apr 2023: 14,347\n",
            "May 2023: 14,819\n",
            "Jun 2023: 14,662\n",
            "Jul 2023: 13,441\n",
            "Aug 2023: 14,990\n",
            "Sep 2023: 14,699\n",
            "Oct 2023: 13,890\n",
            "Nov 2023: 13,113\n",
            "Dec 2023: 9,370' metadata={'source': '/content/VolumeSheet.csv', 'row': 22}\n",
            "---\n",
            "page_content='Tenant: Fortis\n",
            "Workflow: NOTR\n",
            "Status: Failed\n",
            "Jan 2023: 100\n",
            "Feb 2023: 100\n",
            "Mar 2023: 2\n",
            "Apr 2023: 94\n",
            "May 2023: 93\n",
            "Jun 2023: 7\n",
            "Jul 2023: 12\n",
            "Aug 2023: 8\n",
            "Sep 2023: 33\n",
            "Oct 2023: 7\n",
            "Nov 2023: 9\n",
            "Dec 2023: 3' metadata={'source': '/content/VolumeSheet.csv', 'row': 23}\n",
            "---\n",
            "page_content='Tenant: Fortis\n",
            "Workflow: NOTR\n",
            "Status: Needs Attention\n",
            "Jan 2023: 100\n",
            "Feb 2023: 100\n",
            "Mar 2023: 0\n",
            "Apr 2023: 0\n",
            "May 2023: 0\n",
            "Jun 2023: 0\n",
            "Jul 2023: 0\n",
            "Aug 2023: 0\n",
            "Sep 2023: 0\n",
            "Oct 2023: 0\n",
            "Nov 2023: 0\n",
            "Dec 2023: 0' metadata={'source': '/content/VolumeSheet.csv', 'row': 24}\n",
            "---\n",
            "page_content='Tenant: Fortis\n",
            "Workflow: NOTR\n",
            "Status: Terminated\n",
            "Jan 2023: 100\n",
            "Feb 2023: 100\n",
            "Mar 2023: 110\n",
            "Apr 2023: 99\n",
            "May 2023: 90\n",
            "Jun 2023: 129\n",
            "Jul 2023: 163\n",
            "Aug 2023: 147\n",
            "Sep 2023: 127\n",
            "Oct 2023: 134\n",
            "Nov 2023: 89\n",
            "Dec 2023: 126' metadata={'source': '/content/VolumeSheet.csv', 'row': 25}\n",
            "---\n",
            "page_content='Tenant: Kokilaben Dhirubhai\n",
            "Workflow: Claims\n",
            "Status: Total\n",
            "Jan 2023: 439\n",
            "Feb 2023: 439\n",
            "Mar 2023: 373\n",
            "Apr 2023: 372\n",
            "May 2023: 249\n",
            "Jun 2023: 264\n",
            "Jul 2023: 286\n",
            "Aug 2023: 255\n",
            "Sep 2023: 231\n",
            "Oct 2023: 213\n",
            "Nov 2023: 263\n",
            "Dec 2023: 129' metadata={'source': '/content/VolumeSheet.csv', 'row': 26}\n",
            "---\n",
            "page_content='Tenant: Kokilaben Dhirubhai\n",
            "Workflow: Claims\n",
            "Status: Success\n",
            "Jan 2023: 239\n",
            "Feb 2023: 239\n",
            "Mar 2023: 255\n",
            "Apr 2023: 249\n",
            "May 2023: 163\n",
            "Jun 2023: 169\n",
            "Jul 2023: 194\n",
            "Aug 2023: 169\n",
            "Sep 2023: 158\n",
            "Oct 2023: 153\n",
            "Nov 2023: 191\n",
            "Dec 2023: 3' metadata={'source': '/content/VolumeSheet.csv', 'row': 27}\n",
            "---\n",
            "page_content='Tenant: Kokilaben Dhirubhai\n",
            "Workflow: Claims\n",
            "Status: Failed\n",
            "Jan 2023: 100\n",
            "Feb 2023: 100\n",
            "Mar 2023: 118\n",
            "Apr 2023: 123\n",
            "May 2023: 86\n",
            "Jun 2023: 95\n",
            "Jul 2023: 92\n",
            "Aug 2023: 86\n",
            "Sep 2023: 73\n",
            "Oct 2023: 60\n",
            "Nov 2023: 72\n",
            "Dec 2023: 0' metadata={'source': '/content/VolumeSheet.csv', 'row': 28}\n",
            "---\n",
            "page_content='Tenant: Kokilaben Dhirubhai\n",
            "Workflow: Claims\n",
            "Status: Needs Attention\n",
            "Jan 2023: 100\n",
            "Feb 2023: 100\n",
            "Mar 2023: 0\n",
            "Apr 2023: 0\n",
            "May 2023: 0\n",
            "Jun 2023: 0\n",
            "Jul 2023: 0\n",
            "Aug 2023: 0\n",
            "Sep 2023: 0\n",
            "Oct 2023: 0\n",
            "Nov 2023: 0\n",
            "Dec 2023: 126' metadata={'source': '/content/VolumeSheet.csv', 'row': 29}\n",
            "---\n",
            "page_content='Tenant: Kokilaben Dhirubhai\n",
            "Workflow: NOE\n",
            "Status: Total\n",
            "Jan 2023: 439\n",
            "Feb 2023: 439\n",
            "Mar 2023: 373\n",
            "Apr 2023: 372\n",
            "May 2023: 249\n",
            "Jun 2023: 264\n",
            "Jul 2023: 286\n",
            "Aug 2023: 255\n",
            "Sep 2023: 231\n",
            "Oct 2023: 213\n",
            "Nov 2023: 263\n",
            "Dec 2023: 129' metadata={'source': '/content/VolumeSheet.csv', 'row': 30}\n",
            "---\n",
            "page_content='Tenant: Kokilaben Dhirubhai\n",
            "Workflow: NOE\n",
            "Status: Success\n",
            "Jan 2023: 239\n",
            "Feb 2023: 239\n",
            "Mar 2023: 255\n",
            "Apr 2023: 249\n",
            "May 2023: 163\n",
            "Jun 2023: 169\n",
            "Jul 2023: 194\n",
            "Aug 2023: 169\n",
            "Sep 2023: 158\n",
            "Oct 2023: 153\n",
            "Nov 2023: 191\n",
            "Dec 2023: 3' metadata={'source': '/content/VolumeSheet.csv', 'row': 31}\n",
            "---\n",
            "page_content='Tenant: Kokilaben Dhirubhai\n",
            "Workflow: NOE\n",
            "Status: Failed\n",
            "Jan 2023: 100\n",
            "Feb 2023: 100\n",
            "Mar 2023: 118\n",
            "Apr 2023: 123\n",
            "May 2023: 86\n",
            "Jun 2023: 95\n",
            "Jul 2023: 92\n",
            "Aug 2023: 86\n",
            "Sep 2023: 73\n",
            "Oct 2023: 60\n",
            "Nov 2023: 72\n",
            "Dec 2023: 0' metadata={'source': '/content/VolumeSheet.csv', 'row': 32}\n",
            "---\n",
            "page_content='Tenant: Kokilaben Dhirubhai\n",
            "Workflow: NOE\n",
            "Status: Needs Attention\n",
            "Jan 2023: 100\n",
            "Feb 2023: 100\n",
            "Mar 2023: 0\n",
            "Apr 2023: 0\n",
            "May 2023: 0\n",
            "Jun 2023: 0\n",
            "Jul 2023: 0\n",
            "Aug 2023: 0\n",
            "Sep 2023: 0\n",
            "Oct 2023: 0\n",
            "Nov 2023: 0\n",
            "Dec 2023: 126' metadata={'source': '/content/VolumeSheet.csv', 'row': 33}\n",
            "---\n",
            "page_content='Tenant: Kokilaben Dhirubhai\n",
            "Workflow: NOTR\n",
            "Status: Total\n",
            "Jan 2023: 439\n",
            "Feb 2023: 439\n",
            "Mar 2023: 1,282\n",
            "Apr 2023: 1,127\n",
            "May 2023: 1048\n",
            "Jun 2023: 827\n",
            "Jul 2023: 819\n",
            "Aug 2023: 727\n",
            "Sep 2023: 739\n",
            "Oct 2023: 755\n",
            "Nov 2023: 897\n",
            "Dec 2023: 1,245' metadata={'source': '/content/VolumeSheet.csv', 'row': 34}\n",
            "---\n",
            "page_content='Tenant: Kokilaben Dhirubhai\n",
            "Workflow: NOTR\n",
            "Status: Success\n",
            "Jan 2023: 239\n",
            "Feb 2023: 239\n",
            "Mar 2023: 1,176\n",
            "Apr 2023: 1,029\n",
            "May 2023: 949\n",
            "Jun 2023: 781\n",
            "Jul 2023: 749\n",
            "Aug 2023: 696\n",
            "Sep 2023: 685\n",
            "Oct 2023: 697\n",
            "Nov 2023: 790\n",
            "Dec 2023: 1,041' metadata={'source': '/content/VolumeSheet.csv', 'row': 35}\n",
            "---\n",
            "page_content='Tenant: Kokilaben Dhirubhai\n",
            "Workflow: NOTR\n",
            "Status: Failed\n",
            "Jan 2023: 100\n",
            "Feb 2023: 100\n",
            "Mar 2023: 106\n",
            "Apr 2023: 98\n",
            "May 2023: 99\n",
            "Jun 2023: 46\n",
            "Jul 2023: 70\n",
            "Aug 2023: 31\n",
            "Sep 2023: 54\n",
            "Oct 2023: 58\n",
            "Nov 2023: 107\n",
            "Dec 2023: 204' metadata={'source': '/content/VolumeSheet.csv', 'row': 36}\n",
            "---\n",
            "page_content='Tenant: Kokilaben Dhirubhai\n",
            "Workflow: NOTR\n",
            "Status: Needs Attention\n",
            "Jan 2023: 100\n",
            "Feb 2023: 100\n",
            "Mar 2023: 0\n",
            "Apr 2023: 0\n",
            "May 2023: 0\n",
            "Jun 2023: 0\n",
            "Jul 2023: 0\n",
            "Aug 2023: 0\n",
            "Sep 2023: 0\n",
            "Oct 2023: 0\n",
            "Nov 2023: 0\n",
            "Dec 2023: 0' metadata={'source': '/content/VolumeSheet.csv', 'row': 37}\n",
            "---\n",
            "page_content='Tenant: Kokilaben Dhirubhai\n",
            "Workflow: NOTR\n",
            "Status: Terminated\n",
            "Jan 2023: 100\n",
            "Feb 2023: 100\n",
            "Mar 2023: 64\n",
            "Apr 2023: 135\n",
            "May 2023: 73\n",
            "Jun 2023: 191\n",
            "Jul 2023: 69\n",
            "Aug 2023: 99\n",
            "Sep 2023: 46\n",
            "Oct 2023: 20\n",
            "Nov 2023: 1\n",
            "Dec 2023: 11' metadata={'source': '/content/VolumeSheet.csv', 'row': 38}\n",
            "---\n"
          ]
        }
      ],
      "source": [
        "# Print each split and a separator for readability\n",
        "for split in splits:\n",
        "    print(split)\n",
        "    print(\"---\")"
      ]
    },
    {
      "cell_type": "markdown",
      "metadata": {
        "id": "iI475GvX4X8b"
      },
      "source": [
        "#### <font color=FF595E>Create embeddings</font>"
      ]
    },
    {
      "cell_type": "code",
      "execution_count": null,
      "metadata": {
        "id": "yFrdfjo34fqJ"
      },
      "outputs": [],
      "source": [
        "#Import vectorstore database and embeddings model\n",
        "from langchain_community.vectorstores import Chroma\n",
        "from langchain_openai import OpenAIEmbeddings\n",
        "\n",
        "# Embeddings model\n",
        "embeddings_model = OpenAIEmbeddings"
      ]
    },
    {
      "cell_type": "code",
      "execution_count": null,
      "metadata": {
        "id": "6ckp85W74w_0"
      },
      "outputs": [],
      "source": [
        "#Define vector DB. Run this line of code only once.\n",
        "#If accidently did more delete DB\n",
        "\n",
        "vector_db = Chroma.from_documents(documents=splits, embedding=embeddings_model())"
      ]
    },
    {
      "cell_type": "code",
      "execution_count": null,
      "metadata": {
        "colab": {
          "base_uri": "https://localhost:8080/"
        },
        "id": "ZV77LGQJG-id",
        "outputId": "c4e5443e-91ad-4922-d9ea-0e1529c27b02"
      },
      "outputs": [
        {
          "output_type": "stream",
          "name": "stdout",
          "text": [
            "Collection deleted successfully.\n"
          ]
        }
      ],
      "source": [
        "#Code to delete db. (if needed)\n",
        "\n",
        "# Delete the collection\n",
        "vector_db.delete_collection()\n",
        "print(\"Collection deleted successfully.\")"
      ]
    },
    {
      "cell_type": "markdown",
      "metadata": {
        "id": "fSXMkxex49yT"
      },
      "source": [
        "#### <font color=FF595E>Define Retriever</font>"
      ]
    },
    {
      "cell_type": "code",
      "execution_count": null,
      "metadata": {
        "id": "5xhCcKBz48Ym"
      },
      "outputs": [],
      "source": [
        "retriever = vector_db.as_retriever()"
      ]
    },
    {
      "cell_type": "markdown",
      "metadata": {
        "id": "HFZGgepR5NrR"
      },
      "source": [
        "#### <font color=FF595E>Test retriever</font>"
      ]
    },
    {
      "cell_type": "code",
      "execution_count": null,
      "metadata": {
        "colab": {
          "base_uri": "https://localhost:8080/"
        },
        "id": "CIYV1CTPQpSc",
        "outputId": "52163bc5-98cf-479e-cf1e-1514b8d015b7"
      },
      "outputs": [
        {
          "output_type": "execute_result",
          "data": {
            "text/plain": [
              "[(Document(metadata={'row': 0, 'source': '/content/VolumeSheet.csv'}, page_content='Tenant: Apollo\\nWorkflow: Claims\\nStatus: Total\\nJan 2023: 439\\nFeb 2023: 439\\nMar 2023: 1099\\nApr 2023: 194\\nMay 2023: 200\\nJun 2023: 161\\nJul 2023: 198\\nAug 2023: 153\\nSep 2023: 194\\nOct 2023: 200\\nNov 2023: 161\\nDec 2023: 198'),\n",
              "  0.2737162411212921),\n",
              " (Document(metadata={'row': 0, 'source': '/content/VolumeSheet.csv'}, page_content='Tenant: Apollo\\nWorkflow: Claims\\nStatus: Total\\nJan 2023: 439\\nFeb 2023: 439\\nMar 2023: 1099\\nApr 2023: 194\\nMay 2023: 200\\nJun 2023: 161\\nJul 2023: 198\\nAug 2023: 153\\nSep 2023: 194\\nOct 2023: 200\\nNov 2023: 161\\nDec 2023: 198'),\n",
              "  0.273825466632843),\n",
              " (Document(metadata={'row': 1, 'source': '/content/VolumeSheet.csv'}, page_content='Tenant: Apollo\\nWorkflow: Claims\\nStatus: Success\\nJan 2023: 239\\nFeb 2023: 239\\nMar 2023: 899\\nApr 2023: 192\\nMay 2023: 164\\nJun 2023: 103\\nJul 2023: 152\\nAug 2023: 149\\nSep 2023: 192\\nOct 2023: 164\\nNov 2023: 103\\nDec 2023: 152'),\n",
              "  0.2830909788608551)]"
            ]
          },
          "metadata": {},
          "execution_count": 79
        }
      ],
      "source": [
        "#Define question\n",
        "question = 'What is the volume of total transactions for Apollo for the year 2023?'\n",
        "\n",
        "#Fetch 3 documents from vector store related to question\n",
        "vector_db.similarity_search_with_score(question, k=3)"
      ]
    },
    {
      "cell_type": "code",
      "execution_count": null,
      "metadata": {
        "colab": {
          "base_uri": "https://localhost:8080/"
        },
        "id": "dmEEL-zm5UpZ",
        "outputId": "a0d3ed4c-d699-4f9d-bfd1-3a0843204e10"
      },
      "outputs": [
        {
          "output_type": "execute_result",
          "data": {
            "text/plain": [
              "[(Document(metadata={'row': 1, 'source': '/content/VolumeSheet.csv'}, page_content='Tenant: Apollo\\nWorkflow: Claims\\nStatus: Success\\nJan 2023: 239\\nFeb 2023: 239\\nMar 2023: 899\\nApr 2023: 192\\nMay 2023: 164\\nJun 2023: 103\\nJul 2023: 152\\nAug 2023: 149\\nSep 2023: 192\\nOct 2023: 164\\nNov 2023: 103\\nDec 2023: 152'),\n",
              "  0.2380855679512024),\n",
              " (Document(metadata={'row': 1, 'source': '/content/VolumeSheet.csv'}, page_content='Tenant: Apollo\\nWorkflow: Claims\\nStatus: Success\\nJan 2023: 239\\nFeb 2023: 239\\nMar 2023: 899\\nApr 2023: 192\\nMay 2023: 164\\nJun 2023: 103\\nJul 2023: 152\\nAug 2023: 149\\nSep 2023: 192\\nOct 2023: 164\\nNov 2023: 103\\nDec 2023: 152'),\n",
              "  0.2380855679512024),\n",
              " (Document(metadata={'row': 2, 'source': '/content/VolumeSheet.csv'}, page_content='Tenant: Apollo\\nWorkflow: Claims\\nStatus: Failed\\nJan 2023: 100\\nFeb 2023: 100\\nMar 2023: 100\\nApr 2023: 0\\nMay 2023: 0\\nJun 2023: 0\\nJul 2023: 0\\nAug 2023: 0\\nSep 2023: 0\\nOct 2023: 0\\nNov 2023: 0\\nDec 2023: 0'),\n",
              "  0.24102582037448883)]"
            ]
          },
          "metadata": {},
          "execution_count": 80
        }
      ],
      "source": [
        "#Define question\n",
        "question = 'What are the total Success records for the Tenant Apollo for Claims workflow?'\n",
        "\n",
        "#Fetch 3 documents from vector store related to question\n",
        "vector_db.similarity_search_with_score(question, k=3)"
      ]
    },
    {
      "cell_type": "markdown",
      "metadata": {
        "id": "HHo7ejrc6Nv-"
      },
      "source": [
        "#### <font color=FF595E>Biuld chain that will answer queestions over defined docs</font>"
      ]
    },
    {
      "cell_type": "code",
      "execution_count": null,
      "metadata": {
        "colab": {
          "base_uri": "https://localhost:8080/"
        },
        "id": "X2f-Hd586VM5",
        "outputId": "08abc18b-c785-4a6c-a295-b1592c682642"
      },
      "outputs": [
        {
          "output_type": "execute_result",
          "data": {
            "text/plain": [
              "ChatPromptTemplate(input_variables=['context', 'question'], input_types={}, partial_variables={}, messages=[HumanMessagePromptTemplate(prompt=PromptTemplate(input_variables=['context', 'question'], input_types={}, partial_variables={}, template='Answer the question based on the following context:\\n{context}\\n\\nQuestion: {question}\\n'), additional_kwargs={})])"
            ]
          },
          "metadata": {},
          "execution_count": 81
        }
      ],
      "source": [
        "from langchain.prompts import ChatPromptTemplate\n",
        "# Prompt\n",
        "template = \"\"\"Answer the question based on the following context:\n",
        "{context}\n",
        "\n",
        "Question: {question}\n",
        "\"\"\"\n",
        "\n",
        "#Define rag_prompt from template\n",
        "rag_prompt = ChatPromptTemplate.from_template(template)\n",
        "\n",
        "#Print the promt to check it everything is ok\n",
        "rag_prompt"
      ]
    },
    {
      "cell_type": "code",
      "execution_count": null,
      "metadata": {
        "id": "cJKe7Kg06oZ9"
      },
      "outputs": [],
      "source": [
        "#Define LLM"
      ]
    },
    {
      "cell_type": "code",
      "execution_count": null,
      "metadata": {
        "id": "CfeUcpe66q_0"
      },
      "outputs": [],
      "source": [
        "RAG_llm = ChatOpenAI(model=GPT4)"
      ]
    },
    {
      "cell_type": "code",
      "execution_count": null,
      "metadata": {
        "id": "xZri0Cgh6wN9"
      },
      "outputs": [],
      "source": [
        "#Define Chain"
      ]
    },
    {
      "cell_type": "code",
      "execution_count": null,
      "metadata": {
        "id": "Qi7Ce2bF6zxJ"
      },
      "outputs": [],
      "source": [
        "RAG_chain = rag_prompt | RAG_llm"
      ]
    },
    {
      "cell_type": "code",
      "execution_count": null,
      "metadata": {
        "id": "asInZZHw6679"
      },
      "outputs": [],
      "source": [
        "#Assign docs\n",
        "docs = vector_db.similarity_search(question, k=3)"
      ]
    },
    {
      "cell_type": "code",
      "execution_count": null,
      "metadata": {
        "colab": {
          "base_uri": "https://localhost:8080/"
        },
        "collapsed": true,
        "id": "CGCCU5uc7ome",
        "outputId": "a14064af-c962-4cd1-9d7e-a76718cb8077"
      },
      "outputs": [
        {
          "output_type": "execute_result",
          "data": {
            "text/plain": [
              "AIMessage(content='To find the total Success records for the Tenant Apollo for the Claims workflow, we need to sum the Success records reported for each month.\\n\\nFrom the provided documents, the Success records for Tenant Apollo in the Claims workflow are as follows:\\n\\n- Jan 2023: 239\\n- Feb 2023: 239\\n- Mar 2023: 899\\n- Apr 2023: 192\\n- May 2023: 164\\n- Jun 2023: 103\\n- Jul 2023: 152\\n- Aug 2023: 149\\n- Sep 2023: 192\\n- Oct 2023: 164\\n- Nov 2023: 103\\n- Dec 2023: 152\\n\\nAdding these numbers gives us the total Success records for the Tenant Apollo for Claims workflow:\\n\\n239 + 239 + 899 + 192 + 164 + 103 + 152 + 149 + 192 + 164 + 103 + 152 = **2,738**\\n\\nTherefore, the total Success records for the Tenant Apollo for the Claims workflow are **2,738**.', additional_kwargs={'refusal': None}, response_metadata={'token_usage': {'completion_tokens': 232, 'prompt_tokens': 5331, 'total_tokens': 5563, 'completion_tokens_details': {'accepted_prediction_tokens': 0, 'audio_tokens': 0, 'reasoning_tokens': 0, 'rejected_prediction_tokens': 0}, 'prompt_tokens_details': {'audio_tokens': 0, 'cached_tokens': 0}}, 'model_name': 'gpt-4-0125-preview', 'system_fingerprint': None, 'finish_reason': 'stop', 'logprobs': None}, id='run-dc7fa0c7-96c3-4de0-ae84-3138f7d9bd09-0', usage_metadata={'input_tokens': 5331, 'output_tokens': 232, 'total_tokens': 5563, 'input_token_details': {'audio': 0, 'cache_read': 0}, 'output_token_details': {'audio': 0, 'reasoning': 0}})"
            ]
          },
          "metadata": {},
          "execution_count": 89
        }
      ],
      "source": [
        "#Chain to answer question based on defined docs\n",
        "RAG_chain.invoke({\"context\":data,\"question\": question})"
      ]
    },
    {
      "cell_type": "markdown",
      "metadata": {
        "id": "h0GdlvYG8n7N"
      },
      "source": [
        "#### <font color=FF595E>Composing the Retrieval-Augmented Generation Chain with dynamic retrieval</font>"
      ]
    },
    {
      "cell_type": "code",
      "execution_count": null,
      "metadata": {
        "id": "VErBPe5S8yoQ"
      },
      "outputs": [],
      "source": [
        "from langchain_core.output_parsers import StrOutputParser\n",
        "from langchain_core.runnables import RunnablePassthrough\n",
        "\n",
        "\n",
        "# Create the Retrieval-Augmented Generation (RAG) chain with dynamic retrieval\n",
        "rag_chain = (\n",
        "    # Define the input variables for the chain\n",
        "    {\"context\": retriever, \"question\": RunnablePassthrough()}\n",
        "    # Pipe the input through the RAG prompt template\n",
        "    | rag_prompt\n",
        "    # Pass the formatted prompt to the language model (LLM)\n",
        "    | RAG_llm\n",
        "    # Parse the LLM's output using the StrOutputParser\n",
        "    | StrOutputParser()\n",
        ")"
      ]
    },
    {
      "cell_type": "code",
      "execution_count": null,
      "metadata": {
        "colab": {
          "base_uri": "https://localhost:8080/",
          "height": 145
        },
        "collapsed": true,
        "id": "nerKoeAU9Tiz",
        "outputId": "0fc652b8-12f9-4334-ab59-114723836766"
      },
      "outputs": [
        {
          "output_type": "execute_result",
          "data": {
            "text/plain": [
              "'To find the total volume of transactions for Apollo for the year 2023, we will sum the monthly transaction volumes listed in the first document, since it provides the \"Total\" status transactions for each month.\\n\\nHere are the monthly totals:\\n\\n- Jan 2023: 439\\n- Feb 2023: 439\\n- Mar 2023: 1099\\n- Apr 2023: 194\\n- May 2023: 200\\n- Jun 2023: 161\\n- Jul 2023: 198\\n- Aug 2023: 153\\n- Sep 2023: 194\\n- Oct 2023: 200\\n- Nov 2023: 161\\n- Dec 2023: 198\\n\\nAdding these up:\\n\\n439 + 439 + 1099 + 194 + 200 + 161 + 198 + 153 + 194 + 200 + 161 + 198 = **3436**\\n\\nThe volume of total transactions for Apollo for the year 2023 is 3436.'"
            ],
            "application/vnd.google.colaboratory.intrinsic+json": {
              "type": "string"
            }
          },
          "metadata": {},
          "execution_count": 91
        }
      ],
      "source": [
        "#Invoke the chain\n",
        "\n",
        "rag_chain.invoke(\"What is the volume of total transactions for Apollo for the year 2023?\")\n"
      ]
    },
    {
      "cell_type": "markdown",
      "metadata": {
        "id": "tsCq9hQ_-h-u"
      },
      "source": [
        "#### <font color=FF595E>Build RAG BOT chain prompt template</font>"
      ]
    },
    {
      "cell_type": "code",
      "execution_count": null,
      "metadata": {
        "id": "fAS8zwGe-ft5"
      },
      "outputs": [],
      "source": [
        "#Import required classes for prompt template\n",
        "\n",
        "from langchain.prompts import PromptTemplate\n",
        "from langchain.schema import HumanMessage\n",
        "\n",
        "# Define the human prompt template\n",
        "# Here we making sure that context will be passed to LLM before question will be added by human.\n",
        "human_prompt = \"\"\"Answer the question based on the following context: {context}\n",
        "\n",
        "\"\"\""
      ]
    },
    {
      "cell_type": "code",
      "execution_count": null,
      "metadata": {
        "id": "1BFWS2tU_GRG"
      },
      "outputs": [],
      "source": [
        "# Initialize the chat history\n",
        "chat_history = ChatMessageHistory()"
      ]
    },
    {
      "cell_type": "code",
      "execution_count": null,
      "metadata": {
        "id": "kC-AtUKo_H3O"
      },
      "outputs": [],
      "source": [
        "# Define the question\n",
        "question = \"What is the volume of total transactions for Apollo for the year 2023?\""
      ]
    },
    {
      "cell_type": "code",
      "execution_count": null,
      "metadata": {
        "id": "-vvpZDctS9qj"
      },
      "outputs": [],
      "source": [
        "# Define the question\n",
        "question = \"What is Fortis's total volume for April 2024 for Denials Processing workflow?\""
      ]
    },
    {
      "cell_type": "code",
      "execution_count": null,
      "metadata": {
        "id": "ziPVct5i_b8K"
      },
      "outputs": [],
      "source": [
        "# Retrieve relevant context based on the question\n",
        "context = vector_db.similarity_search(question, k=3)"
      ]
    },
    {
      "cell_type": "code",
      "execution_count": null,
      "metadata": {
        "id": "o-nZh8nv_e3W"
      },
      "outputs": [],
      "source": [
        "# Create a PromptTemplate from the human prompt\n",
        "prompt_template = PromptTemplate.from_template(human_prompt)"
      ]
    },
    {
      "cell_type": "code",
      "execution_count": null,
      "metadata": {
        "id": "iFcRGk7v_pPL"
      },
      "outputs": [],
      "source": [
        "# Format the prompt with the retrieved context and question\n",
        "formatted_prompt = prompt_template.format(context=context)"
      ]
    },
    {
      "cell_type": "code",
      "execution_count": null,
      "metadata": {
        "id": "Hpm9Hn5P_wKd"
      },
      "outputs": [],
      "source": [
        "# Create a HumanMessage with the formatted prompt\n",
        "formatted_human_message = [HumanMessage(content=formatted_prompt)]"
      ]
    },
    {
      "cell_type": "code",
      "execution_count": null,
      "metadata": {
        "id": "VHTX7REv_83k"
      },
      "outputs": [],
      "source": [
        "# Define the RAG prompt template\n",
        "rag_bot_prompt = ChatPromptTemplate.from_messages(\n",
        "    [\n",
        "        (\"system\", \"You are a data analyst. You have been provided a data regarding Healthcare facilities. You need to check the csv file related to volume and data. Total column refers to total number of records also known as total voloume of records/transactions or just total volume. The document contains differents status- Total (Total Records Processed), Completed (Success), Failed, Terminated records, In Progress. This is provided for the entitre year 2023 for each month separately. Tenant refers to the client and workflow refers to a specific workflow. One tenant can have multiple workflows as stated. You need to prepare bar graphs or line charts for the questions asked by the user\"),\n",
        "        *formatted_human_message,\n",
        "        MessagesPlaceholder(variable_name=\"messages\"),\n",
        "    ]\n",
        ")\n"
      ]
    },
    {
      "cell_type": "code",
      "execution_count": null,
      "metadata": {
        "id": "FH0lA3GZAP9i"
      },
      "outputs": [],
      "source": [
        "# Create the RAG LLM chain by piping the RAG prompt to the LLM\n",
        "rag_bot_chain = rag_bot_prompt | RAG_llm"
      ]
    },
    {
      "cell_type": "code",
      "execution_count": null,
      "metadata": {
        "colab": {
          "base_uri": "https://localhost:8080/"
        },
        "id": "3QTgsoWAAgne",
        "outputId": "94082abf-f3ce-461e-89ab-7b152c83a23c"
      },
      "outputs": [
        {
          "output_type": "stream",
          "name": "stdout",
          "text": [
            "Starting the chat...\n",
            "User: For Tenant Apollo, give me all the total records for entire year 2023\n",
            "AI: The documents you've provided don't include any data for Tenant Apollo. They only contain information related to Tenant Fortis, specifically for the Workflow: Claims, and their statuses across 2023. If you have any information regarding Apollo, please provide that for further assistance.\n",
            "User: For Tenant Fortis, give me all the total records for entire year 2023\n",
            "AI: For Tenant Fortis, focusing on the Workflow: Claims, here are the total records for each month in the entire year of 2023:\n",
            "\n",
            "- January 2023: 400\n",
            "- February 2023: 400\n",
            "- March 2023: 1137\n",
            "- April 2023: 1203\n",
            "- May 2023: 1053\n",
            "- June 2023: 1021\n",
            "- July 2023: 929\n",
            "- August 2023: 1084\n",
            "- September 2023: 1121\n",
            "- October 2023: 1124\n",
            "- November 2023: 1304\n",
            "- December 2023: 1255\n",
            "\n",
            "These figures represent the total volume of records processed in each month for the year 2023.\n",
            "User: exit\n",
            "Exiting the chat...\n"
          ]
        }
      ],
      "source": [
        "#Define stop words for our chatbot\n",
        "stop_words = [\"exit\", \"quit\", \"stop\"]\n",
        "\n",
        "chat_history = ChatMessageHistory()\n",
        "\n",
        "\n",
        "rag_chain_with_message_history = RunnableWithMessageHistory(\n",
        "    rag_bot_chain,\n",
        "    lambda session_id : chat_history,\n",
        "    input_messages_key=\"messages\",\n",
        "    history_messages_key=\"chat_history\"\n",
        ")\n",
        "\n",
        "# Perform chat turns\n",
        "print(\"Starting the chat...\")\n",
        "while True:\n",
        "    question = input(\"User: \")\n",
        "\n",
        "    # Check if the user input matches a stop word\n",
        "    if question.lower() in stop_words:\n",
        "        print(\"Exiting the chat...\")\n",
        "        break\n",
        "\n",
        "    # Retrieve relevant context based on the question\n",
        "    context = vector_db.similarity_search(question, k=3)\n",
        "\n",
        "    # Add a user message to the chat history\n",
        "    chat_history.add_user_message(question)\n",
        "\n",
        "    #Generate AI response\n",
        "    ai_response = rag_chain_with_message_history.invoke({\"messages\": chat_history.messages}, {\"configurable\": {\"session_id\": chat_history}})\n",
        "\n",
        "    # Add an AI response message to the chat history\n",
        "    chat_history.add_ai_message(ai_response.content)\n",
        "\n",
        "    #Display AI answer\n",
        "    print(f\"AI: {ai_response.content}\")"
      ]
    }
  ],
  "metadata": {
    "colab": {
      "provenance": [],
      "include_colab_link": true
    },
    "kernelspec": {
      "display_name": "Python 3",
      "name": "python3"
    },
    "language_info": {
      "name": "python"
    }
  },
  "nbformat": 4,
  "nbformat_minor": 0
}